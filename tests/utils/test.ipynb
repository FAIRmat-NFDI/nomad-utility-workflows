{
 "cells": [
  {
   "cell_type": "code",
   "execution_count": 1,
   "metadata": {},
   "outputs": [],
   "source": [
    "from pprint import pprint\n",
    "\n",
    "from nomad_simulation_workflow_utilities.users import get_user_by_id, who_am_i, search_users_by_name\n",
    "from nomad_simulation_workflow_utilities.utils import get_authentication_token\n",
    "from nomad_simulation_workflow_utilities.entries import get_entry_by_id, get_entries_of_upload, query_entries, get_entries_of_my_uploads\n",
    "from nomad_simulation_workflow_utilities.datasets import retrieve_datasets, create_dataset, delete_dataset, get_dataset_by_id\n",
    "from nomad_simulation_workflow_utilities.uploads import upload_files_to_nomad, get_upload_by_id, publish_upload, edit_upload_metadata, get_all_my_uploads, delete_upload\n",
    "\n",
    "from decouple import config as environ"
   ]
  },
  {
   "cell_type": "code",
   "execution_count": 2,
   "metadata": {},
   "outputs": [
    {
     "name": "stdout",
     "output_type": "stream",
     "text": [
      "https://nomad-lab.eu/prod/v1/api/v1 https://nomad-lab.eu/prod/v1/test/api/v1\n"
     ]
    }
   ],
   "source": [
    "from nomad_simulation_workflow_utilities.utils import NOMAD_TEST_URL, NOMAD_PROD_URL\n",
    "print(NOMAD_PROD_URL, NOMAD_TEST_URL)"
   ]
  },
  {
   "cell_type": "code",
   "execution_count": 3,
   "metadata": {},
   "outputs": [
    {
     "data": {
      "text/plain": [
       "'JFRudzinski'"
      ]
     },
     "execution_count": 3,
     "metadata": {},
     "output_type": "execute_result"
    }
   ],
   "source": [
    "NOMAD_USERNAME = environ(\"NOMAD_USERNAME\")\n",
    "NOMAD_PASSWORD = environ(\"NOMAD_PASSWORD\")\n",
    "NOMAD_USERNAME"
   ]
  },
  {
   "cell_type": "code",
   "execution_count": 5,
   "metadata": {},
   "outputs": [],
   "source": [
    "test_upload_fnm = 'test.zip'"
   ]
  },
  {
   "cell_type": "code",
   "execution_count": 6,
   "metadata": {},
   "outputs": [
    {
     "data": {
      "text/plain": [
       "'eyJhbGciOiJSUzI1NiIsInR5cCIgOiAiSldUIiwia2lkIiA6ICJmb1hmZnM5QlFQWHduLU54Yk5PYlExOFhnZnlKU1FNRkl6ZFVnWjhrZzdVIn0.eyJleHAiOjE3MTk5MTg0OTcsImlhdCI6MTcxOTgzMjA5NywianRpIjoiZTQzNDQ1MTUtMDBiMS00NDIzLTljOGMtYzk1MGNkMjA5NTdjIiwiaXNzIjoiaHR0cHM6Ly9ub21hZC1sYWIuZXUvZmFpcmRpL2tleWNsb2FrL2F1dGgvcmVhbG1zL2ZhaXJkaV9ub21hZF9wcm9kIiwic3ViIjoiN2M4NWJkZjEtOGI1My00MGE4LTgxYTQtMDRmMjZmZjU2ZjI5IiwidHlwIjoiQmVhcmVyIiwiYXpwIjoibm9tYWRfcHVibGljIiwic2Vzc2lvbl9zdGF0ZSI6ImQ2M2MxMWQ0LWZlODItNGJlNy1iZDk4LTM5MDVhM2M3MjQ5MCIsInNjb3BlIjoib3BlbmlkIHByb2ZpbGUgZW1haWwiLCJzaWQiOiJkNjNjMTFkNC1mZTgyLTRiZTctYmQ5OC0zOTA1YTNjNzI0OTAiLCJlbWFpbF92ZXJpZmllZCI6dHJ1ZSwibmFtZSI6Ikpvc2VwaCBSdWR6aW5za2kiLCJwcmVmZXJyZWRfdXNlcm5hbWUiOiJqcnVkemluc2tpIiwiZ2l2ZW5fbmFtZSI6Ikpvc2VwaCIsImZhbWlseV9uYW1lIjoiUnVkemluc2tpIiwiZW1haWwiOiJqb3NlcGgucnVkemluc2tpQHBoeXNpay5odS1iZXJsaW4uZGUifQ.MeKmm_TAgVl8n670P_vSrYssOECrF2haWHgvkXmNWiLLu3_FlX2xr-fU_IXp8cbHGk4tlEJzZmOT1Ezm0nHGwlm9lu4FeabyXWTU0LS4950B-3CRQEJTxTrXuQ9IysioYxq2se7xfzgTtw7Pvc2UyneZidrC5JtvVmCXgE4RYPymNJ1OCYP4wE6fg1Teo4wQbUnzTt3ItPNCOzlmm7CjVRjPiBQb4t2o2sPJX8WH7Yq_cTZrX-cl7M3Sni_DjRm2R0bXnNCfzUbOmcYKzbvjCYN_CSCgYZYtJ0oEB4EbFhqs7l-dXl-zVfy98nELRWP0llYyO2GuBta8XBTaeTWABw'"
      ]
     },
     "execution_count": 6,
     "metadata": {},
     "output_type": "execute_result"
    }
   ],
   "source": [
    "token = get_authentication_token(username=NOMAD_USERNAME, password=NOMAD_PASSWORD, use_prod=False)\n",
    "token"
   ]
  },
  {
   "cell_type": "code",
   "execution_count": 7,
   "metadata": {},
   "outputs": [
    {
     "data": {
      "text/plain": [
       "NomadUser(name='Joseph Rudzinski')"
      ]
     },
     "execution_count": 7,
     "metadata": {},
     "output_type": "execute_result"
    }
   ],
   "source": [
    "nomad_user_me = who_am_i(use_prod=False)\n",
    "nomad_user_me"
   ]
  },
  {
   "cell_type": "code",
   "execution_count": 8,
   "metadata": {},
   "outputs": [
    {
     "data": {
      "text/plain": [
       "NomadUser(name='Joseph Rudzinski')"
      ]
     },
     "execution_count": 8,
     "metadata": {},
     "output_type": "execute_result"
    }
   ],
   "source": [
    "nomad_user = get_user_by_id(nomad_user_me.user_id, use_prod=False)\n",
    "nomad_user"
   ]
  },
  {
   "cell_type": "code",
   "execution_count": 9,
   "metadata": {},
   "outputs": [
    {
     "data": {
      "text/plain": [
       "[NomadUser(name='Joseph Rudzinski'), NomadUser(name='Joseph Rudzinski')]"
      ]
     },
     "execution_count": 9,
     "metadata": {},
     "output_type": "execute_result"
    }
   ],
   "source": [
    "nomad_users = search_users_by_name('Rudzinski', use_prod=False)\n",
    "nomad_users"
   ]
  },
  {
   "cell_type": "code",
   "execution_count": 10,
   "metadata": {},
   "outputs": [
    {
     "data": {
      "text/plain": [
       "'aMG_RQZLRFmd861n8EdVNg'"
      ]
     },
     "execution_count": 10,
     "metadata": {},
     "output_type": "execute_result"
    }
   ],
   "source": [
    "upload_id = upload_files_to_nomad(filename=test_upload_fnm, use_prod=False)\n",
    "upload_id"
   ]
  },
  {
   "cell_type": "code",
   "execution_count": 11,
   "metadata": {},
   "outputs": [
    {
     "name": "stdout",
     "output_type": "stream",
     "text": [
      "NomadUpload(upload_id='aMG_RQZLRFmd861n8EdVNg',\n",
      "            upload_create_time=datetime.datetime(2024, 7, 1, 11, 8, 22, 913000),\n",
      "            main_author=NomadUser(name='Joseph Rudzinski'),\n",
      "            process_running=False,\n",
      "            current_process='process_upload',\n",
      "            process_status='SUCCESS',\n",
      "            last_status_message='Process process_upload completed successfully',\n",
      "            errors=[],\n",
      "            warnings=[],\n",
      "            coauthors=[],\n",
      "            coauthor_groups=[],\n",
      "            reviewers=[],\n",
      "            reviewer_groups=[],\n",
      "            writers=[NomadUser(name='Joseph Rudzinski')],\n",
      "            writer_groups=[],\n",
      "            viewers=[NomadUser(name='Joseph Rudzinski')],\n",
      "            viewer_groups=[],\n",
      "            published=False,\n",
      "            published_to=[],\n",
      "            with_embargo=False,\n",
      "            embargo_length=0.0,\n",
      "            license='CC BY 4.0',\n",
      "            entries=1,\n",
      "            n_entries=None,\n",
      "            upload_files_server_path='/nomad/test/fs/staging/a/aMG_RQZLRFmd861n8EdVNg',\n",
      "            publish_time=None,\n",
      "            references=None,\n",
      "            datasets=None,\n",
      "            external_db=None,\n",
      "            upload_name=None,\n",
      "            comment=None,\n",
      "            use_prod=False,\n",
      "            complete_time=datetime.datetime(2024, 7, 1, 11, 8, 24, 10000))\n"
     ]
    }
   ],
   "source": [
    "nomad_upload = get_upload_by_id(upload_id, use_prod=False)\n",
    "\n",
    "pprint(nomad_upload)"
   ]
  },
  {
   "cell_type": "code",
   "execution_count": 12,
   "metadata": {},
   "outputs": [
    {
     "data": {
      "text/plain": [
       "{'upload_id': 'aMG_RQZLRFmd861n8EdVNg',\n",
       " 'data': {'process_running': True,\n",
       "  'current_process': 'edit_upload_metadata',\n",
       "  'process_status': 'PENDING',\n",
       "  'last_status_message': 'Pending: edit_upload_metadata',\n",
       "  'errors': [],\n",
       "  'warnings': [],\n",
       "  'complete_time': '2024-07-01T11:08:24.010000',\n",
       "  'upload_id': 'aMG_RQZLRFmd861n8EdVNg',\n",
       "  'upload_create_time': '2024-07-01T11:08:22.913000',\n",
       "  'main_author': '7c85bdf1-8b53-40a8-81a4-04f26ff56f29',\n",
       "  'coauthors': [],\n",
       "  'coauthor_groups': [],\n",
       "  'reviewers': [],\n",
       "  'reviewer_groups': [],\n",
       "  'writers': ['7c85bdf1-8b53-40a8-81a4-04f26ff56f29'],\n",
       "  'writer_groups': [],\n",
       "  'viewers': ['7c85bdf1-8b53-40a8-81a4-04f26ff56f29'],\n",
       "  'viewer_groups': [],\n",
       "  'published': False,\n",
       "  'published_to': [],\n",
       "  'with_embargo': False,\n",
       "  'embargo_length': 0,\n",
       "  'license': 'CC BY 4.0',\n",
       "  'entries': 1,\n",
       "  'upload_files_server_path': '/nomad/test/fs/staging/a/aMG_RQZLRFmd861n8EdVNg'}}"
      ]
     },
     "execution_count": 12,
     "metadata": {},
     "output_type": "execute_result"
    }
   ],
   "source": [
    "metadata_new = {'upload_name': \"Test Upload\", 'comment': \"This is a test upload...\"}\n",
    "# edit_upload_metadata(upload_id, use_prod=False, upload_name='Test Upload', comment='This is a test upload...')\n",
    "edit_upload_metadata(upload_id, use_prod=False, **metadata_new)"
   ]
  },
  {
   "cell_type": "code",
   "execution_count": 13,
   "metadata": {},
   "outputs": [
    {
     "name": "stdout",
     "output_type": "stream",
     "text": [
      "NomadUpload(upload_id='aMG_RQZLRFmd861n8EdVNg',\n",
      "            upload_create_time=datetime.datetime(2024, 7, 1, 11, 8, 22, 913000),\n",
      "            main_author=NomadUser(name='Joseph Rudzinski'),\n",
      "            process_running=False,\n",
      "            current_process='edit_upload_metadata',\n",
      "            process_status='SUCCESS',\n",
      "            last_status_message='Process edit_upload_metadata completed '\n",
      "                                'successfully',\n",
      "            errors=[],\n",
      "            warnings=[],\n",
      "            coauthors=[],\n",
      "            coauthor_groups=[],\n",
      "            reviewers=[],\n",
      "            reviewer_groups=[],\n",
      "            writers=[NomadUser(name='Joseph Rudzinski')],\n",
      "            writer_groups=[],\n",
      "            viewers=[NomadUser(name='Joseph Rudzinski')],\n",
      "            viewer_groups=[],\n",
      "            published=False,\n",
      "            published_to=[],\n",
      "            with_embargo=False,\n",
      "            embargo_length=0.0,\n",
      "            license='CC BY 4.0',\n",
      "            entries=1,\n",
      "            n_entries=None,\n",
      "            upload_files_server_path='/nomad/test/fs/staging/a/aMG_RQZLRFmd861n8EdVNg',\n",
      "            publish_time=None,\n",
      "            references=None,\n",
      "            datasets=None,\n",
      "            external_db=None,\n",
      "            upload_name='Test Upload',\n",
      "            comment=None,\n",
      "            use_prod=False,\n",
      "            complete_time=datetime.datetime(2024, 7, 1, 11, 8, 26, 545000))\n"
     ]
    }
   ],
   "source": [
    "nomad_upload = get_upload_by_id(upload_id, use_prod=False)\n",
    "\n",
    "pprint(nomad_upload)"
   ]
  },
  {
   "cell_type": "code",
   "execution_count": 14,
   "metadata": {},
   "outputs": [
    {
     "data": {
      "text/plain": [
       "[NomadEntry(entry_id='Me3_ysgR6EaWCvPbYei7hFPBQU8b', upload_id='aMG_RQZLRFmd861n8EdVNg', references=[], origin='Joseph Rudzinski', n_quantities=0, nomad_version='1.3.0', upload_create_time=datetime.datetime(2024, 7, 1, 11, 8, 22, 913000, tzinfo=datetime.timezone(datetime.timedelta(0), '+0000')), nomad_commit='', processing_errors=[], entry_name='test.archive.json', last_processing_time=datetime.datetime(2024, 7, 1, 11, 8, 23, 424000, tzinfo=datetime.timezone(datetime.timedelta(0), '+0000')), parser_name='parsers/archive', calc_id='Me3_ysgR6EaWCvPbYei7hFPBQU8b', published=False, writers=[NomadUser(name='Joseph Rudzinski')], processed=True, mainfile='test.archive.json', main_author=NomadUser(name='Joseph Rudzinski'), entry_create_time=datetime.datetime(2024, 7, 1, 11, 8, 23, 217000, tzinfo=datetime.timezone(datetime.timedelta(0), '+0000')), with_embargo=False, entry_type=None, license='CC BY 4.0', domain=None, comment='This is a test upload...', upload_name='Test Upload', text_search_contents=[], publish_time=None, entry_references=None, use_prod=False)]"
      ]
     },
     "execution_count": 14,
     "metadata": {},
     "output_type": "execute_result"
    }
   ],
   "source": [
    "entries = get_entries_of_upload(upload_id, use_prod=False, with_authentication=True)\n",
    "entries"
   ]
  },
  {
   "cell_type": "code",
   "execution_count": 15,
   "metadata": {},
   "outputs": [
    {
     "data": {
      "text/plain": [
       "NomadEntry(entry_id='Me3_ysgR6EaWCvPbYei7hFPBQU8b', upload_id='aMG_RQZLRFmd861n8EdVNg', references=[], origin='Joseph Rudzinski', n_quantities=0, nomad_version='1.3.0', upload_create_time=datetime.datetime(2024, 7, 1, 11, 8, 22, 913000, tzinfo=datetime.timezone(datetime.timedelta(0), '+0000')), nomad_commit='', processing_errors=[], entry_name='test.archive.json', last_processing_time=datetime.datetime(2024, 7, 1, 11, 8, 23, 424000, tzinfo=datetime.timezone(datetime.timedelta(0), '+0000')), parser_name='parsers/archive', calc_id='Me3_ysgR6EaWCvPbYei7hFPBQU8b', published=False, writers=[NomadUser(name='Joseph Rudzinski')], processed=True, mainfile='test.archive.json', main_author=NomadUser(name='Joseph Rudzinski'), entry_create_time=datetime.datetime(2024, 7, 1, 11, 8, 23, 217000, tzinfo=datetime.timezone(datetime.timedelta(0), '+0000')), with_embargo=False, entry_type=None, license='CC BY 4.0', domain=None, comment='This is a test upload...', upload_name='Test Upload', text_search_contents=[], publish_time=None, entry_references=None, use_prod=False)"
      ]
     },
     "execution_count": 15,
     "metadata": {},
     "output_type": "execute_result"
    }
   ],
   "source": [
    "entry = get_entry_by_id(entries[0].entry_id, use_prod=False, with_authentication=True)\n",
    "entry"
   ]
  },
  {
   "cell_type": "code",
   "execution_count": 16,
   "metadata": {},
   "outputs": [],
   "source": [
    "# delete_upload(upload_id, use_prod=False)"
   ]
  },
  {
   "cell_type": "code",
   "execution_count": 17,
   "metadata": {},
   "outputs": [
    {
     "data": {
      "text/plain": [
       "{'upload_id': 'aMG_RQZLRFmd861n8EdVNg',\n",
       " 'data': {'process_running': True,\n",
       "  'current_process': 'publish_upload',\n",
       "  'process_status': 'PENDING',\n",
       "  'last_status_message': 'Pending: publish_upload',\n",
       "  'errors': [],\n",
       "  'warnings': [],\n",
       "  'complete_time': '2024-07-01T11:08:26.545000',\n",
       "  'upload_id': 'aMG_RQZLRFmd861n8EdVNg',\n",
       "  'upload_name': 'Test Upload',\n",
       "  'upload_create_time': '2024-07-01T11:08:22.913000',\n",
       "  'main_author': '7c85bdf1-8b53-40a8-81a4-04f26ff56f29',\n",
       "  'coauthors': [],\n",
       "  'coauthor_groups': [],\n",
       "  'reviewers': [],\n",
       "  'reviewer_groups': [],\n",
       "  'writers': ['7c85bdf1-8b53-40a8-81a4-04f26ff56f29'],\n",
       "  'writer_groups': [],\n",
       "  'viewers': ['7c85bdf1-8b53-40a8-81a4-04f26ff56f29'],\n",
       "  'viewer_groups': [],\n",
       "  'published': False,\n",
       "  'published_to': [],\n",
       "  'with_embargo': False,\n",
       "  'embargo_length': 0,\n",
       "  'license': 'CC BY 4.0',\n",
       "  'entries': 1,\n",
       "  'upload_files_server_path': '/nomad/test/fs/staging/a/aMG_RQZLRFmd861n8EdVNg'}}"
      ]
     },
     "execution_count": 17,
     "metadata": {},
     "output_type": "execute_result"
    }
   ],
   "source": [
    "publish_upload(nomad_upload.upload_id, use_prod=False)"
   ]
  },
  {
   "cell_type": "code",
   "execution_count": 18,
   "metadata": {},
   "outputs": [
    {
     "name": "stdout",
     "output_type": "stream",
     "text": [
      "[NomadDataset(dataset_id='k0FIIN93TDqcDatfaBWpXQ',\n",
      "              dataset_create_time=datetime.datetime(2023, 7, 7, 9, 8, 26, 816000),\n",
      "              dataset_name='Atomistic Molecular Dynamics Simulations of Pure '\n",
      "                           'Liquids and Binary Mixtures for Representative '\n",
      "                           'C7O2 Isomers',\n",
      "              dataset_type='DatasetType.owned',\n",
      "              dataset_modified_time=datetime.datetime(2023, 7, 7, 9, 8, 26, 816000),\n",
      "              user=NomadUser(name='Joseph Rudzinski'),\n",
      "              doi=None,\n",
      "              pid=None,\n",
      "              m_annotations=None)]\n"
     ]
    }
   ],
   "source": [
    "my_datasets = retrieve_datasets(user_id=nomad_user_me.user_id, use_prod=True, max_datasets=20)\n",
    "pprint(my_datasets)"
   ]
  },
  {
   "cell_type": "code",
   "execution_count": 4,
   "metadata": {},
   "outputs": [
    {
     "data": {
      "text/plain": [
       "'ebwoNMcASJyL2ZDeO4R3SQ'"
      ]
     },
     "execution_count": 4,
     "metadata": {},
     "output_type": "execute_result"
    }
   ],
   "source": [
    "# dataset_id = create_dataset(\"test dataset\", use_prod=False)\n",
    "# dataset_id\n",
    "\n",
    "dataset_id = create_dataset(\"test martignac\", use_prod=True)\n",
    "dataset_id"
   ]
  },
  {
   "cell_type": "code",
   "execution_count": 23,
   "metadata": {},
   "outputs": [
    {
     "data": {
      "text/plain": [
       "{'upload_id': 'aMG_RQZLRFmd861n8EdVNg',\n",
       " 'data': {'process_running': True,\n",
       "  'current_process': 'edit_upload_metadata',\n",
       "  'process_status': 'PENDING',\n",
       "  'last_status_message': 'Pending: edit_upload_metadata',\n",
       "  'errors': [],\n",
       "  'warnings': [],\n",
       "  'complete_time': '2024-07-01T11:08:34.973000',\n",
       "  'upload_id': 'aMG_RQZLRFmd861n8EdVNg',\n",
       "  'upload_name': 'Test Upload',\n",
       "  'upload_create_time': '2024-07-01T11:08:22.913000',\n",
       "  'main_author': '7c85bdf1-8b53-40a8-81a4-04f26ff56f29',\n",
       "  'coauthors': [],\n",
       "  'coauthor_groups': [],\n",
       "  'reviewers': [],\n",
       "  'reviewer_groups': [],\n",
       "  'writers': ['7c85bdf1-8b53-40a8-81a4-04f26ff56f29'],\n",
       "  'writer_groups': [],\n",
       "  'viewers': ['7c85bdf1-8b53-40a8-81a4-04f26ff56f29'],\n",
       "  'viewer_groups': [],\n",
       "  'published': True,\n",
       "  'published_to': [],\n",
       "  'publish_time': '2024-07-01T11:08:34.959000',\n",
       "  'with_embargo': False,\n",
       "  'embargo_length': 0,\n",
       "  'license': 'CC BY 4.0',\n",
       "  'entries': 1}}"
      ]
     },
     "execution_count": 23,
     "metadata": {},
     "output_type": "execute_result"
    }
   ],
   "source": [
    "metadata_new = {'dataset_id': dataset_id}\n",
    "edit_upload_metadata(upload_id, use_prod=False, **metadata_new)"
   ]
  },
  {
   "cell_type": "code",
   "execution_count": 24,
   "metadata": {},
   "outputs": [
    {
     "data": {
      "text/plain": [
       "NomadDataset(dataset_id='71V3LrAhQOaYcqILcetQTg', dataset_create_time=datetime.datetime(2024, 7, 1, 11, 9, 26, 760000), dataset_name='test dataset', dataset_type='DatasetType.owned', dataset_modified_time=datetime.datetime(2024, 7, 1, 11, 9, 26, 760000), user=NomadUser(name='Joseph Rudzinski'), doi=None, pid=None, m_annotations=None)"
      ]
     },
     "execution_count": 24,
     "metadata": {},
     "output_type": "execute_result"
    }
   ],
   "source": [
    "dataset = get_dataset_by_id(dataset_id, use_prod=False)\n",
    "dataset"
   ]
  },
  {
   "cell_type": "code",
   "execution_count": 25,
   "metadata": {},
   "outputs": [
    {
     "data": {
      "text/plain": [
       "[NomadEntry(entry_id='Me3_ysgR6EaWCvPbYei7hFPBQU8b', upload_id='aMG_RQZLRFmd861n8EdVNg', references=[], origin='Joseph Rudzinski', n_quantities=0, nomad_version='1.3.0', upload_create_time=datetime.datetime(2024, 7, 1, 11, 8, 22, 913000, tzinfo=datetime.timezone(datetime.timedelta(0), '+0000')), nomad_commit='', processing_errors=[], entry_name='test.archive.json', last_processing_time=datetime.datetime(2024, 7, 1, 11, 8, 23, 424000, tzinfo=datetime.timezone(datetime.timedelta(0), '+0000')), parser_name='parsers/archive', calc_id='Me3_ysgR6EaWCvPbYei7hFPBQU8b', published=True, writers=[NomadUser(name='Joseph Rudzinski')], processed=True, mainfile='test.archive.json', main_author=NomadUser(name='Joseph Rudzinski'), entry_create_time=datetime.datetime(2024, 7, 1, 11, 8, 23, 217000, tzinfo=datetime.timezone(datetime.timedelta(0), '+0000')), with_embargo=False, entry_type=None, license='CC BY 4.0', domain=None, comment='This is a test upload...', upload_name='Test Upload', text_search_contents=[], publish_time=datetime.datetime(2024, 7, 1, 11, 8, 34, 959000, tzinfo=datetime.timezone(datetime.timedelta(0), '+0000')), entry_references=None, use_prod=False)]"
      ]
     },
     "execution_count": 25,
     "metadata": {},
     "output_type": "execute_result"
    }
   ],
   "source": [
    "query_entries(dataset_id=dataset_id, use_prod=False)"
   ]
  },
  {
   "cell_type": "code",
   "execution_count": 26,
   "metadata": {},
   "outputs": [],
   "source": [
    "# delete_dataset(dataset_id, use_prod=False)"
   ]
  },
  {
   "cell_type": "code",
   "execution_count": 27,
   "metadata": {},
   "outputs": [
    {
     "data": {
      "text/plain": [
       "[NomadEntry(entry_id='u6jMV0SRNoWbZS3dy5GwUPTzI0pf', upload_id='E70NAf4KR7S2Eal5K1ojVQ', references=[], origin='Tristan Bereau', n_quantities=0, nomad_version='1.2.2.dev365+g0c980916a', upload_create_time=datetime.datetime(2024, 5, 1, 11, 57, 40, 911000, tzinfo=datetime.timezone(datetime.timedelta(0), '+0000')), nomad_commit='', processing_errors=['Error creating MDAnalysis universe.', 'Error creating MDAnalysis universe.', 'Error creating MDAnalysis universe.', 'Error parsing interactions.', 'Error creating MDAnalysis universe.', 'Error creating MDAnalysis universe.', 'Error creating MDAnalysis universe.', 'Error creating MDAnalysis universe.', 'Error creating MDAnalysis universe.', 'Error creating MDAnalysis universe.', 'Error creating MDAnalysis universe.'], entry_name='GROMACS MolecularDynamics simulation', last_processing_time=datetime.datetime(2024, 5, 1, 11, 57, 42, 262000, tzinfo=datetime.timezone(datetime.timedelta(0), '+0000')), parser_name='parsers/gromacs', calc_id='u6jMV0SRNoWbZS3dy5GwUPTzI0pf', published=False, writers=[NomadUser(name='Tristan Bereau'), NomadUser(name='Joseph Rudzinski'), NomadUser(name='Jose Pizarro Blanco')], processed=True, mainfile='solute_equilibrate.log', main_author=NomadUser(name='Tristan Bereau'), entry_create_time=datetime.datetime(2024, 5, 1, 11, 57, 41, 480000, tzinfo=datetime.timezone(datetime.timedelta(0), '+0000')), with_embargo=False, entry_type='GROMACS MolecularDynamics', license='CC BY 4.0', domain='dft', comment='{\"job_id\": \"bc3c7ca12d4e7b0fa984e8cbb813acbf\", \"workflow_name\": \"SoluteGenFlow\", \"state_point\": {\"type\": \"solute\", \"solute_name\": \"P6\"}, \"mdp_files\": \"2d7a9e52d14d23e0dfb97192d75a3463\", \"itp_files\": \"a52590b1d87d122ba1e376b83c3d6bee\"}', upload_name=None, text_search_contents=[], publish_time=None, entry_references=None, use_prod=False),\n",
       " NomadEntry(entry_id='qmR2yY0Yn0RSQa6q-pBPZigU4ueO', upload_id='E70NAf4KR7S2Eal5K1ojVQ', references=[], origin='Tristan Bereau', n_quantities=0, nomad_version='1.2.2.dev365+g0c980916a', upload_create_time=datetime.datetime(2024, 5, 1, 11, 57, 40, 911000, tzinfo=datetime.timezone(datetime.timedelta(0), '+0000')), nomad_commit='', processing_errors=[], entry_name='solute_generation.archive.yaml', last_processing_time=datetime.datetime(2024, 5, 1, 11, 57, 42, 185000, tzinfo=datetime.timezone(datetime.timedelta(0), '+0000')), parser_name='parsers/archive', calc_id='qmR2yY0Yn0RSQa6q-pBPZigU4ueO', published=False, writers=[NomadUser(name='Tristan Bereau'), NomadUser(name='Joseph Rudzinski'), NomadUser(name='Jose Pizarro Blanco')], processed=True, mainfile='solute_generation.archive.yaml', main_author=NomadUser(name='Tristan Bereau'), entry_create_time=datetime.datetime(2024, 5, 1, 11, 57, 41, 510000, tzinfo=datetime.timezone(datetime.timedelta(0), '+0000')), with_embargo=False, entry_type='Workflow', license='CC BY 4.0', domain=None, comment='{\"job_id\": \"bc3c7ca12d4e7b0fa984e8cbb813acbf\", \"workflow_name\": \"SoluteGenFlow\", \"state_point\": {\"type\": \"solute\", \"solute_name\": \"P6\"}, \"mdp_files\": \"2d7a9e52d14d23e0dfb97192d75a3463\", \"itp_files\": \"a52590b1d87d122ba1e376b83c3d6bee\"}', upload_name=None, text_search_contents=[], publish_time=None, entry_references=[{'target_upload_id': 'E70NAf4KR7S2Eal5K1ojVQ', 'target_entry_id': 'u6jMV0SRNoWbZS3dy5GwUPTzI0pf', 'target_name': '-1', 'target_mainfile': 'solute_equilibrate.log', 'target_reference': '../upload/archive/mainfile/solute_equilibrate.log#/run/0/calculation/-1', 'source_path': 'workflow2.outputs.section', 'target_path': '/run/0/calculation/-1', 'source_name': 'section', 'source_quantity': 'nomad.datamodel.metainfo.workflow.Link.section'}, {'target_upload_id': 'E70NAf4KR7S2Eal5K1ojVQ', 'target_entry_id': 'q6e-nwlogOiTNchnUq3aGR8NtlYU', 'target_name': 'calculation', 'target_mainfile': 'solute_minimize.log', 'target_reference': '../upload/archive/mainfile/solute_minimize.log#/run/0/calculation/0', 'source_path': 'workflow2.tasks.outputs.section', 'target_path': '/run/0/calculation/0', 'source_name': 'section', 'source_quantity': 'nomad.datamodel.metainfo.workflow.Link.section'}, {'target_upload_id': 'E70NAf4KR7S2Eal5K1ojVQ', 'target_entry_id': 'q6e-nwlogOiTNchnUq3aGR8NtlYU', 'target_name': 'calculation', 'target_mainfile': 'solute_minimize.log', 'target_reference': '../upload/archive/mainfile/solute_minimize.log#/run/0/calculation/0', 'source_path': 'workflow2.tasks.inputs.section', 'target_path': '/run/0/calculation/0', 'source_name': 'section', 'source_quantity': 'nomad.datamodel.metainfo.workflow.Link.section'}, {'target_upload_id': 'E70NAf4KR7S2Eal5K1ojVQ', 'target_entry_id': 'q6e-nwlogOiTNchnUq3aGR8NtlYU', 'target_name': '-1', 'target_mainfile': 'solute_minimize.log', 'target_reference': '../upload/archive/mainfile/solute_minimize.log#/run/0/calculation/-1', 'source_path': 'workflow2.tasks.outputs.section', 'target_path': '/run/0/calculation/-1', 'source_name': 'section', 'source_quantity': 'nomad.datamodel.metainfo.workflow.Link.section'}, {'target_upload_id': 'E70NAf4KR7S2Eal5K1ojVQ', 'target_entry_id': 'q6e-nwlogOiTNchnUq3aGR8NtlYU', 'target_name': 'workflow2', 'target_mainfile': 'solute_minimize.log', 'target_reference': '../upload/archive/mainfile/solute_minimize.log#/workflow2', 'source_path': 'workflow2.tasks.task', 'target_path': '/workflow2', 'source_name': 'task', 'source_quantity': 'nomad.datamodel.metainfo.workflow.TaskReference.task'}, {'target_upload_id': 'E70NAf4KR7S2Eal5K1ojVQ', 'target_entry_id': 'q6e-nwlogOiTNchnUq3aGR8NtlYU', 'target_name': '-1', 'target_mainfile': 'solute_minimize.log', 'target_reference': '../upload/archive/mainfile/solute_minimize.log#/run/0/calculation/-1', 'source_path': 'workflow2.tasks.inputs.section', 'target_path': '/run/0/calculation/-1', 'source_name': 'section', 'source_quantity': 'nomad.datamodel.metainfo.workflow.Link.section'}, {'target_upload_id': 'E70NAf4KR7S2Eal5K1ojVQ', 'target_entry_id': 'u6jMV0SRNoWbZS3dy5GwUPTzI0pf', 'target_name': '-1', 'target_mainfile': 'solute_equilibrate.log', 'target_reference': '../upload/archive/mainfile/solute_equilibrate.log#/run/0/calculation/-1', 'source_path': 'workflow2.tasks.outputs.section', 'target_path': '/run/0/calculation/-1', 'source_name': 'section', 'source_quantity': 'nomad.datamodel.metainfo.workflow.Link.section'}, {'target_upload_id': 'E70NAf4KR7S2Eal5K1ojVQ', 'target_entry_id': 'u6jMV0SRNoWbZS3dy5GwUPTzI0pf', 'target_name': 'workflow2', 'target_mainfile': 'solute_equilibrate.log', 'target_reference': '../upload/archive/mainfile/solute_equilibrate.log#/workflow2', 'source_path': 'workflow2.tasks.task', 'target_path': '/workflow2', 'source_name': 'task', 'source_quantity': 'nomad.datamodel.metainfo.workflow.TaskReference.task'}], use_prod=False),\n",
       " NomadEntry(entry_id='q6e-nwlogOiTNchnUq3aGR8NtlYU', upload_id='E70NAf4KR7S2Eal5K1ojVQ', references=[], origin='Tristan Bereau', n_quantities=0, nomad_version='1.2.2.dev365+g0c980916a', upload_create_time=datetime.datetime(2024, 5, 1, 11, 57, 40, 911000, tzinfo=datetime.timezone(datetime.timedelta(0), '+0000')), nomad_commit='', processing_errors=['Error creating MDAnalysis universe.', 'Error creating MDAnalysis universe.', 'Error creating MDAnalysis universe.', 'Error parsing interactions.', 'Error creating MDAnalysis universe.', 'Error creating MDAnalysis universe.', 'Error creating MDAnalysis universe.', 'Error creating MDAnalysis universe.', 'Error creating MDAnalysis universe.', 'Error creating MDAnalysis universe.', 'Error creating MDAnalysis universe.'], entry_name='GROMACS GeometryOptimization simulation', last_processing_time=datetime.datetime(2024, 5, 1, 11, 57, 42, 248000, tzinfo=datetime.timezone(datetime.timedelta(0), '+0000')), parser_name='parsers/gromacs', calc_id='q6e-nwlogOiTNchnUq3aGR8NtlYU', published=False, writers=[NomadUser(name='Tristan Bereau'), NomadUser(name='Joseph Rudzinski'), NomadUser(name='Jose Pizarro Blanco')], processed=True, mainfile='solute_minimize.log', main_author=NomadUser(name='Tristan Bereau'), entry_create_time=datetime.datetime(2024, 5, 1, 11, 57, 41, 528000, tzinfo=datetime.timezone(datetime.timedelta(0), '+0000')), with_embargo=False, entry_type='GROMACS GeometryOptimization', license='CC BY 4.0', domain='dft', comment='{\"job_id\": \"bc3c7ca12d4e7b0fa984e8cbb813acbf\", \"workflow_name\": \"SoluteGenFlow\", \"state_point\": {\"type\": \"solute\", \"solute_name\": \"P6\"}, \"mdp_files\": \"2d7a9e52d14d23e0dfb97192d75a3463\", \"itp_files\": \"a52590b1d87d122ba1e376b83c3d6bee\"}', upload_name=None, text_search_contents=[], publish_time=None, entry_references=None, use_prod=False),\n",
       " NomadEntry(entry_id='RMKynnX-b6EnZ98t25x2rUWo7Amd', upload_id='Grboa5V7Qa6mSg_WXPqqlQ', references=[], origin='Joseph Rudzinski', n_quantities=34, nomad_version='1.3.0', upload_create_time=datetime.datetime(2024, 6, 25, 14, 19, 25, 276000, tzinfo=datetime.timezone(datetime.timedelta(0), '+0000')), nomad_commit='', processing_errors=[], entry_name='test.archive.json', last_processing_time=datetime.datetime(2024, 6, 25, 14, 19, 25, 861000, tzinfo=datetime.timezone(datetime.timedelta(0), '+0000')), parser_name='parsers/archive', calc_id='RMKynnX-b6EnZ98t25x2rUWo7Amd', published=False, writers=[NomadUser(name='Joseph Rudzinski')], processed=True, mainfile='test.archive.json', main_author=NomadUser(name='Joseph Rudzinski'), entry_create_time=datetime.datetime(2024, 6, 25, 14, 19, 25, 641000, tzinfo=datetime.timezone(datetime.timedelta(0), '+0000')), with_embargo=False, entry_type=None, license='CC BY 4.0', domain=None, comment=None, upload_name=None, text_search_contents=[], publish_time=None, entry_references=None, use_prod=False),\n",
       " NomadEntry(entry_id='54mdn02jcZg-QIuN6z-2bCGqgYcO', upload_id='baVAhkNjSvysad0spZi6CQ', references=[], origin='Joseph Rudzinski', n_quantities=34, nomad_version='1.3.0', upload_create_time=datetime.datetime(2024, 6, 28, 7, 13, 5, 78000, tzinfo=datetime.timezone(datetime.timedelta(0), '+0000')), nomad_commit='', processing_errors=[], entry_name='test.archive.json', last_processing_time=datetime.datetime(2024, 6, 28, 7, 13, 5, 699000, tzinfo=datetime.timezone(datetime.timedelta(0), '+0000')), parser_name='parsers/archive', calc_id='54mdn02jcZg-QIuN6z-2bCGqgYcO', published=True, writers=[NomadUser(name='Joseph Rudzinski')], processed=True, mainfile='test.archive.json', main_author=NomadUser(name='Joseph Rudzinski'), entry_create_time=datetime.datetime(2024, 6, 28, 7, 13, 5, 427000, tzinfo=datetime.timezone(datetime.timedelta(0), '+0000')), with_embargo=False, entry_type=None, license='CC BY 4.0', domain=None, comment='This is a test upload...', upload_name='Test Upload', text_search_contents=[], publish_time=None, entry_references=None, use_prod=False),\n",
       " NomadEntry(entry_id='S4ukbFGEmkYwK6-C5g_rydIUbOor', upload_id='6UtJVEB5Ru-AZbkLwdki4A', references=[], origin='Joseph Rudzinski', n_quantities=0, nomad_version='1.3.0', upload_create_time=datetime.datetime(2024, 6, 28, 7, 44, 21, 535000, tzinfo=datetime.timezone(datetime.timedelta(0), '+0000')), nomad_commit='', processing_errors=[], entry_name='test.archive.json', last_processing_time=datetime.datetime(2024, 6, 28, 7, 44, 21, 876000, tzinfo=datetime.timezone(datetime.timedelta(0), '+0000')), parser_name='parsers/archive', calc_id='S4ukbFGEmkYwK6-C5g_rydIUbOor', published=False, writers=[NomadUser(name='Joseph Rudzinski')], processed=True, mainfile='test.archive.json', main_author=NomadUser(name='Joseph Rudzinski'), entry_create_time=datetime.datetime(2024, 6, 28, 7, 44, 21, 700000, tzinfo=datetime.timezone(datetime.timedelta(0), '+0000')), with_embargo=False, entry_type=None, license='CC BY 4.0', domain=None, comment='This is a test upload...', upload_name='Test Upload', text_search_contents=[], publish_time=None, entry_references=None, use_prod=False),\n",
       " NomadEntry(entry_id='gb9Bo3oV4mlvzwO42SiN8oG_ekbI', upload_id='XnZH_VeOSlWGOKetfp4rQQ', references=[], origin='Joseph Rudzinski', n_quantities=0, nomad_version='1.3.0', upload_create_time=datetime.datetime(2024, 6, 28, 9, 23, 23, 793000, tzinfo=datetime.timezone(datetime.timedelta(0), '+0000')), nomad_commit='', processing_errors=[], entry_name='test.archive.json', last_processing_time=datetime.datetime(2024, 6, 28, 9, 23, 24, 159000, tzinfo=datetime.timezone(datetime.timedelta(0), '+0000')), parser_name='parsers/archive', calc_id='gb9Bo3oV4mlvzwO42SiN8oG_ekbI', published=False, writers=[NomadUser(name='Joseph Rudzinski')], processed=True, mainfile='test.archive.json', main_author=NomadUser(name='Joseph Rudzinski'), entry_create_time=datetime.datetime(2024, 6, 28, 9, 23, 23, 965000, tzinfo=datetime.timezone(datetime.timedelta(0), '+0000')), with_embargo=False, entry_type=None, license='CC BY 4.0', domain=None, comment='This is a test upload...', upload_name='Test Upload', text_search_contents=[], publish_time=None, entry_references=None, use_prod=False),\n",
       " NomadEntry(entry_id='Pz-xhjXGl5v1A3AHuXXvSaa9I2dX', upload_id='GuoLeTqPSz2E0whEw-yRmw', references=[], origin='Joseph Rudzinski', n_quantities=0, nomad_version='1.3.0', upload_create_time=datetime.datetime(2024, 6, 28, 9, 29, 6, 348000, tzinfo=datetime.timezone(datetime.timedelta(0), '+0000')), nomad_commit='', processing_errors=[], entry_name='test.archive.json', last_processing_time=datetime.datetime(2024, 6, 28, 9, 29, 6, 716000, tzinfo=datetime.timezone(datetime.timedelta(0), '+0000')), parser_name='parsers/archive', calc_id='Pz-xhjXGl5v1A3AHuXXvSaa9I2dX', published=False, writers=[NomadUser(name='Joseph Rudzinski')], processed=True, mainfile='test.archive.json', main_author=NomadUser(name='Joseph Rudzinski'), entry_create_time=datetime.datetime(2024, 6, 28, 9, 29, 6, 521000, tzinfo=datetime.timezone(datetime.timedelta(0), '+0000')), with_embargo=False, entry_type=None, license='CC BY 4.0', domain=None, comment='This is a test upload...', upload_name='Test Upload', text_search_contents=[], publish_time=None, entry_references=None, use_prod=False),\n",
       " NomadEntry(entry_id='O26KRAWhw-TBzHOLrhIl_o0jiQEf', upload_id='o-xLzcHwSIe1OwUd_JVcQA', references=[], origin='Joseph Rudzinski', n_quantities=0, nomad_version='1.3.0', upload_create_time=datetime.datetime(2024, 6, 28, 9, 32, 56, 237000, tzinfo=datetime.timezone(datetime.timedelta(0), '+0000')), nomad_commit='', processing_errors=[], entry_name='test.archive.json', last_processing_time=datetime.datetime(2024, 6, 28, 9, 32, 56, 630000, tzinfo=datetime.timezone(datetime.timedelta(0), '+0000')), parser_name='parsers/archive', calc_id='O26KRAWhw-TBzHOLrhIl_o0jiQEf', published=False, writers=[NomadUser(name='Joseph Rudzinski')], processed=True, mainfile='test.archive.json', main_author=NomadUser(name='Joseph Rudzinski'), entry_create_time=datetime.datetime(2024, 6, 28, 9, 32, 56, 447000, tzinfo=datetime.timezone(datetime.timedelta(0), '+0000')), with_embargo=False, entry_type=None, license='CC BY 4.0', domain=None, comment='This is a test upload...', upload_name='Test Upload', text_search_contents=[], publish_time=None, entry_references=None, use_prod=False),\n",
       " NomadEntry(entry_id='2TahaaC1NrbxkiWqOhBo_pW6PTy2', upload_id='MpgIUQ1fQDaBNgVRHdTpBQ', references=[], origin='Joseph Rudzinski', n_quantities=0, nomad_version='1.3.0', upload_create_time=datetime.datetime(2024, 6, 28, 9, 33, 38, 996000, tzinfo=datetime.timezone(datetime.timedelta(0), '+0000')), nomad_commit='', processing_errors=[], entry_name='test.archive.json', last_processing_time=datetime.datetime(2024, 6, 28, 9, 33, 39, 337000, tzinfo=datetime.timezone(datetime.timedelta(0), '+0000')), parser_name='parsers/archive', calc_id='2TahaaC1NrbxkiWqOhBo_pW6PTy2', published=False, writers=[NomadUser(name='Joseph Rudzinski')], processed=True, mainfile='test.archive.json', main_author=NomadUser(name='Joseph Rudzinski'), entry_create_time=datetime.datetime(2024, 6, 28, 9, 33, 39, 156000, tzinfo=datetime.timezone(datetime.timedelta(0), '+0000')), with_embargo=False, entry_type=None, license='CC BY 4.0', domain=None, comment='This is a test upload...', upload_name='Test Upload', text_search_contents=[], publish_time=None, entry_references=None, use_prod=False),\n",
       " NomadEntry(entry_id='ePsIu34cn9j3FRp2spGFdhZLlu3v', upload_id='64ufurpgRYqO-PawASKUtg', references=[], origin='Joseph Rudzinski', n_quantities=0, nomad_version='1.3.0', upload_create_time=datetime.datetime(2024, 6, 28, 12, 18, 47, 145000, tzinfo=datetime.timezone(datetime.timedelta(0), '+0000')), nomad_commit='', processing_errors=[], entry_name='test.archive.json', last_processing_time=datetime.datetime(2024, 6, 28, 12, 18, 47, 494000, tzinfo=datetime.timezone(datetime.timedelta(0), '+0000')), parser_name='parsers/archive', calc_id='ePsIu34cn9j3FRp2spGFdhZLlu3v', published=True, writers=[NomadUser(name='Joseph Rudzinski')], processed=True, mainfile='test.archive.json', main_author=NomadUser(name='Joseph Rudzinski'), entry_create_time=datetime.datetime(2024, 6, 28, 12, 18, 47, 302000, tzinfo=datetime.timezone(datetime.timedelta(0), '+0000')), with_embargo=False, entry_type=None, license='CC BY 4.0', domain=None, comment='This is a test upload...', upload_name='Test Upload', text_search_contents=[], publish_time=datetime.datetime(2024, 6, 28, 12, 19, 2, 558000, tzinfo=datetime.timezone(datetime.timedelta(0), '+0000')), entry_references=None, use_prod=False),\n",
       " NomadEntry(entry_id='Me3_ysgR6EaWCvPbYei7hFPBQU8b', upload_id='aMG_RQZLRFmd861n8EdVNg', references=[], origin='Joseph Rudzinski', n_quantities=0, nomad_version='1.3.0', upload_create_time=datetime.datetime(2024, 7, 1, 11, 8, 22, 913000, tzinfo=datetime.timezone(datetime.timedelta(0), '+0000')), nomad_commit='', processing_errors=[], entry_name='test.archive.json', last_processing_time=datetime.datetime(2024, 7, 1, 11, 8, 23, 424000, tzinfo=datetime.timezone(datetime.timedelta(0), '+0000')), parser_name='parsers/archive', calc_id='Me3_ysgR6EaWCvPbYei7hFPBQU8b', published=False, writers=[NomadUser(name='Joseph Rudzinski')], processed=True, mainfile='test.archive.json', main_author=NomadUser(name='Joseph Rudzinski'), entry_create_time=datetime.datetime(2024, 7, 1, 11, 8, 23, 217000, tzinfo=datetime.timezone(datetime.timedelta(0), '+0000')), with_embargo=False, entry_type=None, license='CC BY 4.0', domain=None, comment='This is a test upload...', upload_name='Test Upload', text_search_contents=[], publish_time=None, entry_references=None, use_prod=False)]"
      ]
     },
     "execution_count": 27,
     "metadata": {},
     "output_type": "execute_result"
    }
   ],
   "source": [
    "get_entries_of_my_uploads(use_prod=False)"
   ]
  },
  {
   "cell_type": "code",
   "execution_count": 28,
   "metadata": {},
   "outputs": [
    {
     "data": {
      "text/plain": [
       "[NomadUpload(upload_id='E70NAf4KR7S2Eal5K1ojVQ', upload_create_time=datetime.datetime(2024, 5, 1, 11, 57, 40, 911000), main_author=NomadUser(name='Tristan Bereau'), process_running=False, current_process='edit_upload_metadata', process_status='SUCCESS', last_status_message='Process edit_upload_metadata completed successfully', errors=[], warnings=[], coauthors=['7c85bdf1-8b53-40a8-81a4-04f26ff56f29', '39e50f2e-1eca-444e-8716-bfbb7907080b'], coauthor_groups=[], reviewers=[], reviewer_groups=[], writers=[NomadUser(name='Jose Pizarro Blanco'), NomadUser(name='Tristan Bereau'), NomadUser(name='Joseph Rudzinski')], writer_groups=[], viewers=[NomadUser(name='Jose Pizarro Blanco'), NomadUser(name='Tristan Bereau'), NomadUser(name='Joseph Rudzinski')], viewer_groups=[], published=False, published_to=[], with_embargo=False, embargo_length=0.0, license='CC BY 4.0', entries=3, n_entries=None, upload_files_server_path='/nomad/test/fs/staging/E/E70NAf4KR7S2Eal5K1ojVQ', publish_time=None, references=None, datasets=None, external_db=None, upload_name=None, comment=None, use_prod=False, complete_time=datetime.datetime(2024, 6, 17, 7, 29, 41, 807000)),\n",
       " NomadUpload(upload_id='Grboa5V7Qa6mSg_WXPqqlQ', upload_create_time=datetime.datetime(2024, 6, 25, 14, 19, 25, 276000), main_author=NomadUser(name='Joseph Rudzinski'), process_running=False, current_process='process_upload', process_status='SUCCESS', last_status_message='Process process_upload completed successfully', errors=[], warnings=[], coauthors=[], coauthor_groups=[], reviewers=[], reviewer_groups=[], writers=[NomadUser(name='Joseph Rudzinski')], writer_groups=[], viewers=[NomadUser(name='Joseph Rudzinski')], viewer_groups=[], published=False, published_to=[], with_embargo=False, embargo_length=0.0, license='CC BY 4.0', entries=1, n_entries=None, upload_files_server_path='/nomad/test/fs/staging/G/Grboa5V7Qa6mSg_WXPqqlQ', publish_time=None, references=None, datasets=None, external_db=None, upload_name=None, comment=None, use_prod=False, complete_time=datetime.datetime(2024, 6, 25, 14, 19, 26, 523000)),\n",
       " NomadUpload(upload_id='baVAhkNjSvysad0spZi6CQ', upload_create_time=datetime.datetime(2024, 6, 28, 7, 13, 5, 78000), main_author=NomadUser(name='Joseph Rudzinski'), process_running=False, current_process='publish_upload', process_status='SUCCESS', last_status_message='Process publish_upload completed successfully', errors=[], warnings=[], coauthors=[], coauthor_groups=[], reviewers=[], reviewer_groups=[], writers=[NomadUser(name='Joseph Rudzinski')], writer_groups=[], viewers=[NomadUser(name='Joseph Rudzinski')], viewer_groups=[], published=True, published_to=[], with_embargo=False, embargo_length=0.0, license='CC BY 4.0', entries=1, n_entries=None, upload_files_server_path=None, publish_time=datetime.datetime(2024, 6, 28, 7, 14, 33, 944000), references=None, datasets=None, external_db=None, upload_name='Test Upload', comment=None, use_prod=False, complete_time=datetime.datetime(2024, 6, 28, 7, 14, 33, 957000)),\n",
       " NomadUpload(upload_id='6UtJVEB5Ru-AZbkLwdki4A', upload_create_time=datetime.datetime(2024, 6, 28, 7, 44, 21, 535000), main_author=NomadUser(name='Joseph Rudzinski'), process_running=False, current_process='edit_upload_metadata', process_status='SUCCESS', last_status_message='Process edit_upload_metadata completed successfully', errors=[], warnings=[], coauthors=[], coauthor_groups=[], reviewers=[], reviewer_groups=[], writers=[NomadUser(name='Joseph Rudzinski')], writer_groups=[], viewers=[NomadUser(name='Joseph Rudzinski')], viewer_groups=[], published=False, published_to=[], with_embargo=False, embargo_length=0.0, license='CC BY 4.0', entries=1, n_entries=None, upload_files_server_path='/nomad/test/fs/staging/6/6UtJVEB5Ru-AZbkLwdki4A', publish_time=None, references=None, datasets=None, external_db=None, upload_name='Test Upload', comment=None, use_prod=False, complete_time=datetime.datetime(2024, 6, 28, 7, 44, 23, 306000)),\n",
       " NomadUpload(upload_id='XnZH_VeOSlWGOKetfp4rQQ', upload_create_time=datetime.datetime(2024, 6, 28, 9, 23, 23, 793000), main_author=NomadUser(name='Joseph Rudzinski'), process_running=False, current_process='edit_upload_metadata', process_status='SUCCESS', last_status_message='Process edit_upload_metadata completed successfully', errors=[], warnings=[], coauthors=[], coauthor_groups=[], reviewers=[], reviewer_groups=[], writers=[NomadUser(name='Joseph Rudzinski')], writer_groups=[], viewers=[NomadUser(name='Joseph Rudzinski')], viewer_groups=[], published=False, published_to=[], with_embargo=False, embargo_length=0.0, license='CC BY 4.0', entries=1, n_entries=None, upload_files_server_path='/nomad/test/fs/staging/X/XnZH_VeOSlWGOKetfp4rQQ', publish_time=None, references=None, datasets=None, external_db=None, upload_name='Test Upload', comment=None, use_prod=False, complete_time=datetime.datetime(2024, 6, 28, 9, 23, 26, 470000)),\n",
       " NomadUpload(upload_id='GuoLeTqPSz2E0whEw-yRmw', upload_create_time=datetime.datetime(2024, 6, 28, 9, 29, 6, 348000), main_author=NomadUser(name='Joseph Rudzinski'), process_running=False, current_process='edit_upload_metadata', process_status='SUCCESS', last_status_message='Process edit_upload_metadata completed successfully', errors=[], warnings=[], coauthors=[], coauthor_groups=[], reviewers=[], reviewer_groups=[], writers=[NomadUser(name='Joseph Rudzinski')], writer_groups=[], viewers=[NomadUser(name='Joseph Rudzinski')], viewer_groups=[], published=False, published_to=[], with_embargo=False, embargo_length=0.0, license='CC BY 4.0', entries=1, n_entries=None, upload_files_server_path='/nomad/test/fs/staging/G/GuoLeTqPSz2E0whEw-yRmw', publish_time=None, references=None, datasets=None, external_db=None, upload_name='Test Upload', comment=None, use_prod=False, complete_time=datetime.datetime(2024, 6, 28, 9, 29, 8, 438000)),\n",
       " NomadUpload(upload_id='o-xLzcHwSIe1OwUd_JVcQA', upload_create_time=datetime.datetime(2024, 6, 28, 9, 32, 56, 237000), main_author=NomadUser(name='Joseph Rudzinski'), process_running=False, current_process='edit_upload_metadata', process_status='SUCCESS', last_status_message='Process edit_upload_metadata completed successfully', errors=[], warnings=[], coauthors=[], coauthor_groups=[], reviewers=[], reviewer_groups=[], writers=[NomadUser(name='Joseph Rudzinski')], writer_groups=[], viewers=[NomadUser(name='Joseph Rudzinski')], viewer_groups=[], published=False, published_to=[], with_embargo=False, embargo_length=0.0, license='CC BY 4.0', entries=1, n_entries=None, upload_files_server_path='/nomad/test/fs/staging/o/o-xLzcHwSIe1OwUd_JVcQA', publish_time=None, references=None, datasets=None, external_db=None, upload_name='Test Upload', comment=None, use_prod=False, complete_time=datetime.datetime(2024, 6, 28, 9, 32, 57, 204000)),\n",
       " NomadUpload(upload_id='MpgIUQ1fQDaBNgVRHdTpBQ', upload_create_time=datetime.datetime(2024, 6, 28, 9, 33, 38, 996000), main_author=NomadUser(name='Joseph Rudzinski'), process_running=False, current_process='edit_upload_metadata', process_status='SUCCESS', last_status_message='Process edit_upload_metadata completed successfully', errors=[], warnings=[], coauthors=[], coauthor_groups=[], reviewers=[], reviewer_groups=[], writers=[NomadUser(name='Joseph Rudzinski')], writer_groups=[], viewers=[NomadUser(name='Joseph Rudzinski')], viewer_groups=[], published=False, published_to=[], with_embargo=False, embargo_length=0.0, license='CC BY 4.0', entries=1, n_entries=None, upload_files_server_path='/nomad/test/fs/staging/M/MpgIUQ1fQDaBNgVRHdTpBQ', publish_time=None, references=None, datasets=None, external_db=None, upload_name='Test Upload', comment=None, use_prod=False, complete_time=datetime.datetime(2024, 6, 28, 9, 33, 41, 667000)),\n",
       " NomadUpload(upload_id='64ufurpgRYqO-PawASKUtg', upload_create_time=datetime.datetime(2024, 6, 28, 12, 18, 47, 145000), main_author=NomadUser(name='Joseph Rudzinski'), process_running=False, current_process='edit_upload_metadata', process_status='SUCCESS', last_status_message='Process edit_upload_metadata completed successfully', errors=[], warnings=[], coauthors=[], coauthor_groups=[], reviewers=[], reviewer_groups=[], writers=[NomadUser(name='Joseph Rudzinski')], writer_groups=[], viewers=[NomadUser(name='Joseph Rudzinski')], viewer_groups=[], published=True, published_to=[], with_embargo=False, embargo_length=0.0, license='CC BY 4.0', entries=1, n_entries=None, upload_files_server_path=None, publish_time=datetime.datetime(2024, 6, 28, 12, 19, 2, 558000), references=None, datasets=None, external_db=None, upload_name='Test Upload', comment=None, use_prod=False, complete_time=datetime.datetime(2024, 6, 28, 12, 19, 53, 234000)),\n",
       " NomadUpload(upload_id='aMG_RQZLRFmd861n8EdVNg', upload_create_time=datetime.datetime(2024, 7, 1, 11, 8, 22, 913000), main_author=NomadUser(name='Joseph Rudzinski'), process_running=False, current_process='edit_upload_metadata', process_status='SUCCESS', last_status_message='Process edit_upload_metadata completed successfully', errors=[], warnings=[], coauthors=[], coauthor_groups=[], reviewers=[], reviewer_groups=[], writers=[NomadUser(name='Joseph Rudzinski')], writer_groups=[], viewers=[NomadUser(name='Joseph Rudzinski')], viewer_groups=[], published=True, published_to=[], with_embargo=False, embargo_length=0.0, license='CC BY 4.0', entries=1, n_entries=None, upload_files_server_path=None, publish_time=datetime.datetime(2024, 7, 1, 11, 8, 34, 959000), references=None, datasets=None, external_db=None, upload_name='Test Upload', comment=None, use_prod=False, complete_time=datetime.datetime(2024, 7, 1, 11, 9, 27, 853000))]"
      ]
     },
     "execution_count": 28,
     "metadata": {},
     "output_type": "execute_result"
    }
   ],
   "source": [
    "get_all_my_uploads(use_prod=False)"
   ]
  },
  {
   "cell_type": "code",
   "execution_count": null,
   "metadata": {},
   "outputs": [],
   "source": []
  }
 ],
 "metadata": {
  "kernelspec": {
   "display_name": "nomad-networkx",
   "language": "python",
   "name": "python3"
  },
  "language_info": {
   "codemirror_mode": {
    "name": "ipython",
    "version": 3
   },
   "file_extension": ".py",
   "mimetype": "text/x-python",
   "name": "python",
   "nbconvert_exporter": "python",
   "pygments_lexer": "ipython3",
   "version": "3.10.14"
  }
 },
 "nbformat": 4,
 "nbformat_minor": 2
}
