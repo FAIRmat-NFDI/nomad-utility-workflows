{
 "cells": [
  {
   "cell_type": "markdown",
   "metadata": {},
   "source": [
    "# Using the NOMAD API"
   ]
  },
  {
   "cell_type": "code",
   "execution_count": 1,
   "metadata": {},
   "outputs": [],
   "source": [
    "from pprint import pprint\n",
    "\n",
    "from nomad_utility_workflows.utils.users import get_user_by_id, who_am_i, search_users_by_name\n",
    "from nomad_utility_workflows.utils.utils import get_authentication_token\n",
    "from nomad_utility_workflows.utils.entries import get_entry_by_id, get_entries_of_upload, query_entries, get_entries_of_my_uploads\n",
    "from nomad_utility_workflows.utils.datasets import retrieve_datasets, create_dataset, delete_dataset, get_dataset_by_id\n",
    "from nomad_utility_workflows.utils.uploads import upload_files_to_nomad, get_upload_by_id, publish_upload, edit_upload_metadata, get_all_my_uploads, delete_upload\n",
    "\n",
    "from decouple import config as environ"
   ]
  },
  {
   "cell_type": "code",
   "execution_count": 2,
   "metadata": {},
   "outputs": [],
   "source": [
    "import logging\n",
    "# Configure the logger\n",
    "logger = logging.getLogger(__name__)\n",
    "logger.setLevel(logging.DEBUG)  # Set the logging level\n",
    "\n",
    "# Create a console handler and set the level to debug\n",
    "ch = logging.StreamHandler()\n",
    "ch.setLevel(logging.DEBUG)\n",
    "\n",
    "# Create a formatter and set it for the handler\n",
    "formatter = logging.Formatter('%(asctime)s - %(name)s - %(levelname)s - %(message)s')\n",
    "ch.setFormatter(formatter)\n",
    "\n",
    "# Add the handler to the logger\n",
    "logger.addHandler(ch)"
   ]
  },
  {
   "cell_type": "markdown",
   "metadata": {},
   "source": [
    "## NOMAD URLs\n",
    "\n",
    "The NOMAD URL specifies the base address of the API for the NOMAD deployment of interest. Typically, this URL is structured as `https://<deployment_base_path>/api/v1`.\n",
    "\n",
    "By default, `nomad_utility_workflows` uses the Test deployment of NOMAD to make API calls. This is simply a safety mechanism so that users do not accidentally publish something during testing. \n",
    "\n",
    "All API functions allow the user to specify the URL with the optional keyword argument `url`. If you want to use the central NOMAD URLs, you can simply set `url` equal to `prod`, `staging`, or `test`, which correspond to the following deployments (see full URLs below):\n",
    "\n",
    "- prod: the official NOMAD deployment. \n",
    "    - Updated most infrequently (as advertised in #software-updates on the NOMAD Discord Server)\n",
    "- staging: the beta version of NOMAD. \n",
    "    - Updated more frequently than prod, integrating new features. \n",
    "- test: a test NOMAD deployment. \n",
    "    - The data is occassionally wiped, such that test publishing can be made.\n",
    "\n",
    "Note that the `prod` and `staging` deployments share a common database, and that publishing on either will result in publically available data.\n",
    "\n",
    "Alternatively to these short names, the user can use the `url` input to specify the full API address to some alternative NOMAD deployment."
   ]
  },
  {
   "cell_type": "code",
   "execution_count": 3,
   "metadata": {},
   "outputs": [
    {
     "name": "stdout",
     "output_type": "stream",
     "text": [
      "https://nomad-lab.eu/prod/v1/api/v1 https://nomad-lab.eu/prod/v1/staging/api/v1 https://nomad-lab.eu/prod/v1/test/api/v1\n"
     ]
    }
   ],
   "source": [
    "from nomad_utility_workflows.utils.utils import NOMAD_TEST_URL, NOMAD_STAGING_URL, NOMAD_PROD_URL\n",
    "print(NOMAD_PROD_URL, NOMAD_STAGING_URL, NOMAD_TEST_URL)"
   ]
  },
  {
   "cell_type": "markdown",
   "metadata": {},
   "source": [
    "## Authentication\n",
    "\n",
    "Some API calls, e.g., making uploads or accessing your own non-published uploads, require an authentication token. To generate this token, `nomad_utility_workflows` expects that your NOMAD credentials are stored in a `.env` file in the plugin root directory in the format:\n",
    "\n",
    "```bash\n",
    "NOMAD_USERNAME=\"<your_nomad_username>\"\n",
    "NOMAD_PASSWORD=\"<your_nomad_password>\"\n",
    "```\n",
    "\n",
    "You can access these explicitly with:"
   ]
  },
  {
   "cell_type": "code",
   "execution_count": 4,
   "metadata": {},
   "outputs": [
    {
     "data": {
      "text/plain": [
       "'JFRudzinski'"
      ]
     },
     "execution_count": 4,
     "metadata": {},
     "output_type": "execute_result"
    }
   ],
   "source": [
    "NOMAD_USERNAME = environ(\"NOMAD_USERNAME\")\n",
    "NOMAD_PASSWORD = environ(\"NOMAD_PASSWORD\")\n",
    "NOMAD_USERNAME"
   ]
  },
  {
   "cell_type": "markdown",
   "metadata": {},
   "source": [
    "Use `get_authentication_token()` with your credentials to explicitly obtain and store a token (`nomad_utility_workflows()` will automatically obtain a token for API calls that require authentication):\n",
    "\n"
   ]
  },
  {
   "cell_type": "code",
   "execution_count": 5,
   "metadata": {},
   "outputs": [
    {
     "data": {
      "text/plain": [
       "'eyJhbGciOiJSUzI1NiIsInR5cCIgOiAiSldUIiwia2lkIiA6ICJmb1hmZnM5QlFQWHduLU54Yk5PYlExOFhnZnlKU1FNRkl6ZFVnWjhrZzdVIn0.eyJleHAiOjE3MjkwMjE5ODYsImlhdCI6MTcyODkzNTU4NiwianRpIjoiMzJlZDc0OWUtMzMyNS00YmZiLWE3YTEtNmI4YWMwZDA3YzMzIiwiaXNzIjoiaHR0cHM6Ly9ub21hZC1sYWIuZXUvZmFpcmRpL2tleWNsb2FrL2F1dGgvcmVhbG1zL2ZhaXJkaV9ub21hZF9wcm9kIiwic3ViIjoiOGYwNTJlMWYtMTkwNi00MWZkLWIyZWItNjkwYzAzNDA3Nzg4IiwidHlwIjoiQmVhcmVyIiwiYXpwIjoibm9tYWRfcHVibGljIiwic2Vzc2lvbl9zdGF0ZSI6ImYwMTVkYjYyLTY1NGItNDIyMS1hMDE0LWI4ZjdiMWZmYTY1YiIsInNjb3BlIjoib3BlbmlkIHByb2ZpbGUgZW1haWwiLCJzaWQiOiJmMDE1ZGI2Mi02NTRiLTQyMjEtYTAxNC1iOGY3YjFmZmE2NWIiLCJlbWFpbF92ZXJpZmllZCI6dHJ1ZSwibmFtZSI6Ikpvc2VwaCBSdWR6aW5za2kiLCJwcmVmZXJyZWRfdXNlcm5hbWUiOiJqZnJ1ZHppbnNraSIsImdpdmVuX25hbWUiOiJKb3NlcGgiLCJmYW1pbHlfbmFtZSI6IlJ1ZHppbnNraSIsImVtYWlsIjoicnVkemluc2tpQG1waXAtbWFpbnoubXBnLmRlIn0.JcDM3bYXZbA7fY7MKTiInZJ6zRvByNzrLvBjKM4n9eacmF4GBQcKD7l3dOxtrefLtlMMif36gZ0r2dEAI7kRCy5z4KiSzcyS5TVAk-FlItaHlyHGYt_D286vd1MSs88ZfiSHDkIACKtGbMgwIhhZyPUq8QtHSpCQwwJEkPW6-IF7RVXJx0PD_28TuaVpiv4WDoVunLA8T5i3apgSzQbf5qgk0J-BAVbi4ImmRZrNjijNA6HvBlGx_ULf0u4RezG4cy903gMuKihyLBbVoPA69L2Z6rjhwG7xxewRSKP4iJNqlRBT5mU0jlzTZh1jY-ZDJWlxeoBYeg9-epbKA4OFsg'"
      ]
     },
     "execution_count": 5,
     "metadata": {},
     "output_type": "execute_result"
    }
   ],
   "source": [
    "token = get_authentication_token(username=NOMAD_USERNAME, password=NOMAD_PASSWORD, url='test')\n",
    "token"
   ]
  },
  {
   "cell_type": "markdown",
   "metadata": {},
   "source": [
    "### NOMAD User Metadata\n",
    "\n",
    "`nomad_utility_workflows` uses the `NomadUser()` class to store the following user metadata:\n",
    "\n",
    "```python\n",
    "class NomadUser:\n",
    "    user_id: str\n",
    "    name: str\n",
    "    first_name: str \n",
    "    last_name: str \n",
    "    username: str \n",
    "    affiliation: str \n",
    "    affiliation_address: str \n",
    "    email: str\n",
    "    is_oasis_admin: bool \n",
    "    is_admin: bool\n",
    "    repo_user_id: str \n",
    "    created: dt.datetime\n",
    "```\n",
    "\n",
    "\n",
    "You can retrieve your own personal info with the `who_am_i()`:"
   ]
  },
  {
   "cell_type": "code",
   "execution_count": 13,
   "metadata": {},
   "outputs": [
    {
     "data": {
      "text/plain": [
       "NomadUser(name='Joseph Rudzinski')"
      ]
     },
     "execution_count": 13,
     "metadata": {},
     "output_type": "execute_result"
    }
   ],
   "source": [
    "nomad_user_me = who_am_i(url='test')\n",
    "nomad_user_me"
   ]
  },
  {
   "cell_type": "markdown",
   "metadata": {},
   "source": [
    "Similarly, you can query NOMAD for other users with `search_users_by_name()`:"
   ]
  },
  {
   "cell_type": "code",
   "execution_count": 11,
   "metadata": {},
   "outputs": [
    {
     "data": {
      "text/plain": [
       "[NomadUser(name='Joseph Rudzinski'), NomadUser(name='Joseph Rudzinski')]"
      ]
     },
     "execution_count": 11,
     "metadata": {},
     "output_type": "execute_result"
    }
   ],
   "source": [
    "nomad_users = search_users_by_name('Rudzinski', url='test')\n",
    "nomad_users"
   ]
  },
  {
   "cell_type": "markdown",
   "metadata": {},
   "source": [
    "In the case of multiple matches or for robustly identifying particular users, e.g., coauthors, in the future, it may be useful to store their `user_id`&mdash;a persistent identifier for each user account. Then, in the future you can use `get_user_by_id()` to grab the user info."
   ]
  },
  {
   "cell_type": "code",
   "execution_count": 12,
   "metadata": {},
   "outputs": [
    {
     "data": {
      "text/plain": [
       "NomadUser(name='Joseph Rudzinski')"
      ]
     },
     "execution_count": 12,
     "metadata": {},
     "output_type": "execute_result"
    }
   ],
   "source": [
    "nomad_user = get_user_by_id(nomad_users[0].user_id, url='test')\n",
    "nomad_user"
   ]
  },
  {
   "cell_type": "markdown",
   "metadata": {},
   "source": [
    "### Uploading Data\n",
    "\n",
    "`nomad_utility_workflows` uses the `NomadUpload()` class to store the following upload metadata:\n",
    "\n",
    "```python\n",
    "class NomadUpload:\n",
    "    upload_id: str\n",
    "    upload_create_time: dt.datetime\n",
    "    main_author: NomadUser\n",
    "    process_running: bool\n",
    "    current_process: str\n",
    "    process_status: str\n",
    "    last_status_message: str\n",
    "    errors: list[Any]\n",
    "    warnings: list[Any]\n",
    "    coauthors: list[str]\n",
    "    coauthor_groups: list[Any]\n",
    "    reviewers: list[NomadUser]\n",
    "    reviewer_groups: list[Any]\n",
    "    writers: list[NomadUser]\n",
    "    writer_groups: list[Any]\n",
    "    viewers: list[NomadUser]\n",
    "    viewer_groups: list[Any]\n",
    "    published: bool\n",
    "    published_to: list[Any]\n",
    "    with_embargo: bool\n",
    "    embargo_length: float\n",
    "    license: str\n",
    "    entries: int\n",
    "    n_entries: Optional[int] \n",
    "    upload_files_server_path: Optional[str] \n",
    "    publish_time: Optional[dt.datetime] \n",
    "    references: Optional[list[str]] \n",
    "    datasets: Optional[list[str]] \n",
    "    external_db: Optional[str] \n",
    "    upload_name: Optional[str]\n",
    "    comment: Optional[str] \n",
    "    url: Optional[str]\n",
    "    complete_time: Optional[dt.datetime]\n",
    "```\n",
    "\n",
    "You can make an upload using the `upload_files_to_nomad()` function with input `filename=<path_to_a_zip_file_with_your_upload_data>`, as follows:  "
   ]
  },
  {
   "cell_type": "code",
   "execution_count": 14,
   "metadata": {},
   "outputs": [],
   "source": [
    "test_upload_fnm = './test.zip'"
   ]
  },
  {
   "cell_type": "code",
   "execution_count": 15,
   "metadata": {},
   "outputs": [
    {
     "data": {
      "text/plain": [
       "'z4QvhZ7qSCmgIFv_qJqlyQ'"
      ]
     },
     "execution_count": 15,
     "metadata": {},
     "output_type": "execute_result"
    }
   ],
   "source": [
    "upload_id = upload_files_to_nomad(filename=test_upload_fnm, url='test')\n",
    "upload_id"
   ]
  },
  {
   "cell_type": "markdown",
   "metadata": {},
   "source": [
    "### Checking the upload status\n",
    "\n",
    "The returned `upload_id` can then be used to directly access the upload, e.g., to check the upload status, using `get_upload_by_id()`:"
   ]
  },
  {
   "cell_type": "code",
   "execution_count": 10,
   "metadata": {},
   "outputs": [
    {
     "name": "stdout",
     "output_type": "stream",
     "text": [
      "NomadUpload(upload_id='DN61X4r7SCyzm5q1kxcEcw',\n",
      "            upload_create_time=datetime.datetime(2024, 10, 14, 10, 55, 12, 410000),\n",
      "            main_author=NomadUser(name='Joseph Rudzinski'),\n",
      "            process_running=False,\n",
      "            current_process='process_upload',\n",
      "            process_status='SUCCESS',\n",
      "            last_status_message='Process process_upload completed successfully',\n",
      "            errors=[],\n",
      "            warnings=[],\n",
      "            coauthors=[],\n",
      "            coauthor_groups=[],\n",
      "            reviewers=[],\n",
      "            reviewer_groups=[],\n",
      "            writers=[NomadUser(name='Joseph Rudzinski')],\n",
      "            writer_groups=[],\n",
      "            viewers=[NomadUser(name='Joseph Rudzinski')],\n",
      "            viewer_groups=[],\n",
      "            published=False,\n",
      "            published_to=[],\n",
      "            with_embargo=False,\n",
      "            embargo_length=0.0,\n",
      "            license='CC BY 4.0',\n",
      "            entries=1,\n",
      "            n_entries=None,\n",
      "            upload_files_server_path='/nomad/test/fs/staging/D/DN61X4r7SCyzm5q1kxcEcw',\n",
      "            publish_time=None,\n",
      "            references=None,\n",
      "            datasets=None,\n",
      "            external_db=None,\n",
      "            upload_name=None,\n",
      "            comment=None,\n",
      "            use_prod=False,\n",
      "            complete_time=datetime.datetime(2024, 10, 14, 10, 55, 13, 77000))\n"
     ]
    }
   ],
   "source": [
    "nomad_upload = get_upload_by_id(upload_id, use_prod=False)\n",
    "\n",
    "pprint(nomad_upload)"
   ]
  },
  {
   "cell_type": "markdown",
   "metadata": {},
   "source": [
    "One common usage of this function is to ensure that an upload has been processed successfully before making a subsequent action on it, e.g., editing the metadata or publishing. For this purpose, one could require the `process_running==False` or `process_status='SUCCESS'`, e.g.:\n",
    "\n",
    "```python\n",
    "import time\n",
    "\n",
    "max_wait_time = 20 * 60  # 20 minutes in seconds\n",
    "interval = 2 * 60  # 2 minutes in seconds\n",
    "elapsed_time = 0\n",
    "\n",
    "while elapsed_time < max_wait_time:\n",
    "    nomad_upload = get_upload_by_id(upload_id, use_prod=False)\n",
    "    \n",
    "    # Check if the upload is complete\n",
    "    if nomad_upload.get('process_status') == 'SUCCESS':\n",
    "        break\n",
    "    \n",
    "    # Wait for 2 minutes before the next call\n",
    "    time.sleep(interval)\n",
    "    elapsed_time += interval\n",
    "else:\n",
    "    raise TimeoutError(\"Maximum wait time of 20 minutes exceeded. Upload is not complete.\")\n",
    "```"
   ]
  },
  {
   "cell_type": "markdown",
   "metadata": {},
   "source": [
    "### Editing the upload metadata\n",
    "\n",
    "After your upload is processed successfully, you can add coauthors, references, and other comments, as well as link to a dataset and provide a name for the upload. Note that the coauthor is specified by an email address that should correspond to the email linked to the person's NOMAD account, which can be access from `NomadUser.email`. The metadata should be stored as a dictionary as follows:\n",
    "\n",
    "```python\n",
    "metadata = {\n",
    "    \"metadata\": {\n",
    "    \"upload_name\": '<new_upload_name>',\n",
    "    \"references\": [\"https://doi.org/xx.xxxx/xxxxxx\"],\n",
    "    \"datasets\": '<dataset_id>',\n",
    "    \"embargo_length\": 0,\n",
    "    \"coauthors\": [\"coauthor@affiliation.de\"],\n",
    "    \"comment\": 'This is a test upload...'\n",
    "    },\n",
    "}\n",
    "```\n",
    "\n",
    "For example:"
   ]
  },
  {
   "cell_type": "code",
   "execution_count": 16,
   "metadata": {},
   "outputs": [
    {
     "data": {
      "text/plain": [
       "{'upload_id': 'z4QvhZ7qSCmgIFv_qJqlyQ',\n",
       " 'data': {'process_running': True,\n",
       "  'current_process': 'edit_upload_metadata',\n",
       "  'process_status': 'PENDING',\n",
       "  'last_status_message': 'Pending: edit_upload_metadata',\n",
       "  'errors': [],\n",
       "  'warnings': [],\n",
       "  'complete_time': '2024-10-14T20:20:39.868000',\n",
       "  'upload_id': 'z4QvhZ7qSCmgIFv_qJqlyQ',\n",
       "  'upload_create_time': '2024-10-14T20:20:38.757000',\n",
       "  'main_author': '8f052e1f-1906-41fd-b2eb-690c03407788',\n",
       "  'coauthors': [],\n",
       "  'coauthor_groups': [],\n",
       "  'reviewers': [],\n",
       "  'reviewer_groups': [],\n",
       "  'writers': ['8f052e1f-1906-41fd-b2eb-690c03407788'],\n",
       "  'writer_groups': [],\n",
       "  'viewers': ['8f052e1f-1906-41fd-b2eb-690c03407788'],\n",
       "  'viewer_groups': [],\n",
       "  'published': False,\n",
       "  'published_to': [],\n",
       "  'with_embargo': False,\n",
       "  'embargo_length': 0,\n",
       "  'license': 'CC BY 4.0',\n",
       "  'entries': 1,\n",
       "  'upload_files_server_path': '/nomad/test/fs/staging/z/z4QvhZ7qSCmgIFv_qJqlyQ'}}"
      ]
     },
     "execution_count": 16,
     "metadata": {},
     "output_type": "execute_result"
    }
   ],
   "source": [
    "metadata_new = {'upload_name': \"Test Upload\", 'comment': \"This is a test upload...\"}\n",
    "edit_upload_metadata(upload_id, url='test', **metadata_new)"
   ]
  },
  {
   "cell_type": "markdown",
   "metadata": {},
   "source": [
    "Before moving on, let's again check that this additional process is complete:"
   ]
  },
  {
   "cell_type": "code",
   "execution_count": 17,
   "metadata": {},
   "outputs": [
    {
     "name": "stdout",
     "output_type": "stream",
     "text": [
      "NomadUpload(upload_id='z4QvhZ7qSCmgIFv_qJqlyQ',\n",
      "            upload_create_time=datetime.datetime(2024, 10, 14, 20, 20, 38, 757000),\n",
      "            main_author=NomadUser(name='Joseph Rudzinski'),\n",
      "            process_running=False,\n",
      "            current_process='edit_upload_metadata',\n",
      "            process_status='SUCCESS',\n",
      "            last_status_message='Process edit_upload_metadata completed '\n",
      "                                'successfully',\n",
      "            errors=[],\n",
      "            warnings=[],\n",
      "            coauthors=[],\n",
      "            coauthor_groups=[],\n",
      "            reviewers=[],\n",
      "            reviewer_groups=[],\n",
      "            writers=[NomadUser(name='Joseph Rudzinski')],\n",
      "            writer_groups=[],\n",
      "            viewers=[NomadUser(name='Joseph Rudzinski')],\n",
      "            viewer_groups=[],\n",
      "            published=False,\n",
      "            published_to=[],\n",
      "            with_embargo=False,\n",
      "            embargo_length=0.0,\n",
      "            license='CC BY 4.0',\n",
      "            entries=1,\n",
      "            n_entries=None,\n",
      "            upload_files_server_path='/nomad/test/fs/staging/z/z4QvhZ7qSCmgIFv_qJqlyQ',\n",
      "            publish_time=None,\n",
      "            references=None,\n",
      "            datasets=None,\n",
      "            external_db=None,\n",
      "            upload_name='Test Upload',\n",
      "            comment=None,\n",
      "            url='https://nomad-lab.eu/prod/v1/test/api/v1',\n",
      "            complete_time=datetime.datetime(2024, 10, 14, 20, 46, 24, 302000))\n"
     ]
    }
   ],
   "source": [
    "nomad_upload = get_upload_by_id(upload_id, url='test')\n",
    "\n",
    "pprint(nomad_upload)"
   ]
  },
  {
   "cell_type": "markdown",
   "metadata": {},
   "source": [
    "### Accessing individual entries of an upload\n",
    "\n",
    "During the upload process, NOMAD automatically identfies representative files that indicate the presence of data that can be parsed with the included parser plugins within a given deployment. This means that each upload can contain multiple *entries*&mdash;the fundamental unit storage within the NOMAD database.\n",
    "\n",
    "You can query the individual entries within a known upload with `get_entries_of_upload()`:"
   ]
  },
  {
   "cell_type": "code",
   "execution_count": 18,
   "metadata": {},
   "outputs": [
    {
     "ename": "TypeError",
     "evalue": "get_entries_of_upload() got an unexpected keyword argument 'use_prod'",
     "output_type": "error",
     "traceback": [
      "\u001b[0;31m---------------------------------------------------------------------------\u001b[0m",
      "\u001b[0;31mTypeError\u001b[0m                                 Traceback (most recent call last)",
      "Cell \u001b[0;32mIn[18], line 1\u001b[0m\n\u001b[0;32m----> 1\u001b[0m entries \u001b[38;5;241m=\u001b[39m \u001b[43mget_entries_of_upload\u001b[49m\u001b[43m(\u001b[49m\u001b[43mupload_id\u001b[49m\u001b[43m,\u001b[49m\u001b[43m \u001b[49m\u001b[43muse_prod\u001b[49m\u001b[38;5;241;43m=\u001b[39;49m\u001b[38;5;28;43;01mFalse\u001b[39;49;00m\u001b[43m,\u001b[49m\u001b[43m \u001b[49m\u001b[43mwith_authentication\u001b[49m\u001b[38;5;241;43m=\u001b[39;49m\u001b[38;5;28;43;01mTrue\u001b[39;49;00m\u001b[43m)\u001b[49m\n\u001b[1;32m      2\u001b[0m entries\n",
      "File \u001b[0;32m~/work/soft/plugins/nomad-utility-workflows/.pyenv/lib/python3.11/site-packages/cachetools/__init__.py:717\u001b[0m, in \u001b[0;36mcached.<locals>.decorator.<locals>.wrapper\u001b[0;34m(*args, **kwargs)\u001b[0m\n\u001b[1;32m    715\u001b[0m     \u001b[38;5;28;01mwith\u001b[39;00m lock:\n\u001b[1;32m    716\u001b[0m         misses \u001b[38;5;241m+\u001b[39m\u001b[38;5;241m=\u001b[39m \u001b[38;5;241m1\u001b[39m\n\u001b[0;32m--> 717\u001b[0m v \u001b[38;5;241m=\u001b[39m \u001b[43mfunc\u001b[49m\u001b[43m(\u001b[49m\u001b[38;5;241;43m*\u001b[39;49m\u001b[43margs\u001b[49m\u001b[43m,\u001b[49m\u001b[43m \u001b[49m\u001b[38;5;241;43m*\u001b[39;49m\u001b[38;5;241;43m*\u001b[39;49m\u001b[43mkwargs\u001b[49m\u001b[43m)\u001b[49m\n\u001b[1;32m    718\u001b[0m \u001b[38;5;66;03m# in case of a race, prefer the item already in the cache\u001b[39;00m\n\u001b[1;32m    719\u001b[0m \u001b[38;5;28;01mtry\u001b[39;00m:\n",
      "\u001b[0;31mTypeError\u001b[0m: get_entries_of_upload() got an unexpected keyword argument 'use_prod'"
     ]
    }
   ],
   "source": [
    "entries = get_entries_of_upload(upload_id, url=url, with_authentication=True)\n",
    "entries"
   ]
  },
  {
   "cell_type": "code",
   "execution_count": 14,
   "metadata": {},
   "outputs": [
    {
     "data": {
      "text/plain": [
       "NomadEntry(entry_id='7A6lJb-14xR9lxXO8kjuYt5-vxg2', upload_id='DN61X4r7SCyzm5q1kxcEcw', references=[], origin='Joseph Rudzinski', n_quantities=0, nomad_version='1.3.7.dev55+ge83de27b3', upload_create_time=datetime.datetime(2024, 10, 14, 10, 55, 12, 410000, tzinfo=datetime.timezone(datetime.timedelta(0), '+0000')), nomad_commit='', processing_errors=[], entry_name='test.archive.json', last_processing_time=datetime.datetime(2024, 10, 14, 10, 55, 12, 808000, tzinfo=datetime.timezone(datetime.timedelta(0), '+0000')), parser_name='parsers/archive', calc_id='7A6lJb-14xR9lxXO8kjuYt5-vxg2', published=False, writers=[NomadUser(name='Joseph Rudzinski')], processed=True, mainfile='test.archive.json', main_author=NomadUser(name='Joseph Rudzinski'), entry_create_time=datetime.datetime(2024, 10, 14, 10, 55, 12, 563000, tzinfo=datetime.timezone(datetime.timedelta(0), '+0000')), with_embargo=False, entry_type=None, license='CC BY 4.0', domain=None, comment='This is a test upload...', upload_name='Test Upload', text_search_contents=[], publish_time=None, entry_references=None, use_prod=False)"
      ]
     },
     "execution_count": 14,
     "metadata": {},
     "output_type": "execute_result"
    }
   ],
   "source": [
    "entry = get_entry_by_id(entries[0].entry_id, use_prod=False, with_authentication=True)\n",
    "entry"
   ]
  },
  {
   "cell_type": "code",
   "execution_count": 15,
   "metadata": {},
   "outputs": [],
   "source": [
    "# delete_upload(upload_id, use_prod=False)"
   ]
  },
  {
   "cell_type": "code",
   "execution_count": 16,
   "metadata": {},
   "outputs": [
    {
     "data": {
      "text/plain": [
       "{'upload_id': 'DN61X4r7SCyzm5q1kxcEcw',\n",
       " 'data': {'process_running': True,\n",
       "  'current_process': 'publish_upload',\n",
       "  'process_status': 'PENDING',\n",
       "  'last_status_message': 'Pending: publish_upload',\n",
       "  'errors': [],\n",
       "  'warnings': [],\n",
       "  'complete_time': '2024-10-14T10:55:16.139000',\n",
       "  'upload_id': 'DN61X4r7SCyzm5q1kxcEcw',\n",
       "  'upload_name': 'Test Upload',\n",
       "  'upload_create_time': '2024-10-14T10:55:12.410000',\n",
       "  'main_author': '8f052e1f-1906-41fd-b2eb-690c03407788',\n",
       "  'coauthors': [],\n",
       "  'coauthor_groups': [],\n",
       "  'reviewers': [],\n",
       "  'reviewer_groups': [],\n",
       "  'writers': ['8f052e1f-1906-41fd-b2eb-690c03407788'],\n",
       "  'writer_groups': [],\n",
       "  'viewers': ['8f052e1f-1906-41fd-b2eb-690c03407788'],\n",
       "  'viewer_groups': [],\n",
       "  'published': False,\n",
       "  'published_to': [],\n",
       "  'with_embargo': False,\n",
       "  'embargo_length': 0,\n",
       "  'license': 'CC BY 4.0',\n",
       "  'entries': 1,\n",
       "  'upload_files_server_path': '/nomad/test/fs/staging/D/DN61X4r7SCyzm5q1kxcEcw'}}"
      ]
     },
     "execution_count": 16,
     "metadata": {},
     "output_type": "execute_result"
    }
   ],
   "source": [
    "publish_upload(nomad_upload.upload_id, use_prod=False)"
   ]
  },
  {
   "cell_type": "code",
   "execution_count": 17,
   "metadata": {},
   "outputs": [
    {
     "ename": "TypeError",
     "evalue": "NomadDataset.__init__() got an unexpected keyword argument 'user_id'",
     "output_type": "error",
     "traceback": [
      "\u001b[0;31m---------------------------------------------------------------------------\u001b[0m",
      "\u001b[0;31mTypeError\u001b[0m                                 Traceback (most recent call last)",
      "Cell \u001b[0;32mIn[17], line 1\u001b[0m\n\u001b[0;32m----> 1\u001b[0m my_datasets \u001b[38;5;241m=\u001b[39m \u001b[43mretrieve_datasets\u001b[49m\u001b[43m(\u001b[49m\u001b[43muser_id\u001b[49m\u001b[38;5;241;43m=\u001b[39;49m\u001b[43mnomad_user_me\u001b[49m\u001b[38;5;241;43m.\u001b[39;49m\u001b[43muser_id\u001b[49m\u001b[43m,\u001b[49m\u001b[43m \u001b[49m\u001b[43muse_prod\u001b[49m\u001b[38;5;241;43m=\u001b[39;49m\u001b[38;5;28;43;01mTrue\u001b[39;49;00m\u001b[43m,\u001b[49m\u001b[43m \u001b[49m\u001b[43mmax_datasets\u001b[49m\u001b[38;5;241;43m=\u001b[39;49m\u001b[38;5;241;43m20\u001b[39;49m\u001b[43m)\u001b[49m\n\u001b[1;32m      2\u001b[0m pprint(my_datasets)\n",
      "File \u001b[0;32m~/work/soft/plugins/nomad-utility-workflows/src/nomad_utility_workflows/utils/datasets.py:68\u001b[0m, in \u001b[0;36mretrieve_datasets\u001b[0;34m(dataset_id, dataset_name, user_id, page_size, max_datasets, use_prod)\u001b[0m\n\u001b[1;32m     66\u001b[0m \u001b[38;5;28;01mif\u001b[39;00m \u001b[38;5;129;01mnot\u001b[39;00m response[\u001b[38;5;124m'\u001b[39m\u001b[38;5;124mdata\u001b[39m\u001b[38;5;124m'\u001b[39m]:\n\u001b[1;32m     67\u001b[0m     \u001b[38;5;28;01mbreak\u001b[39;00m\n\u001b[0;32m---> 68\u001b[0m datasets\u001b[38;5;241m.\u001b[39mextend(\u001b[43m[\u001b[49m\u001b[43mNomadDataset\u001b[49m\u001b[43m(\u001b[49m\u001b[38;5;241;43m*\u001b[39;49m\u001b[38;5;241;43m*\u001b[39;49m\u001b[43md\u001b[49m\u001b[43m)\u001b[49m\u001b[43m \u001b[49m\u001b[38;5;28;43;01mfor\u001b[39;49;00m\u001b[43m \u001b[49m\u001b[43md\u001b[49m\u001b[43m \u001b[49m\u001b[38;5;129;43;01min\u001b[39;49;00m\u001b[43m \u001b[49m\u001b[43mresponse\u001b[49m\u001b[43m[\u001b[49m\u001b[38;5;124;43m'\u001b[39;49m\u001b[38;5;124;43mdata\u001b[39;49m\u001b[38;5;124;43m'\u001b[39;49m\u001b[43m]\u001b[49m\u001b[43m]\u001b[49m)\n\u001b[1;32m     69\u001b[0m \u001b[38;5;28;01mif\u001b[39;00m response[\u001b[38;5;124m'\u001b[39m\u001b[38;5;124mpagination\u001b[39m\u001b[38;5;124m'\u001b[39m][\u001b[38;5;124m'\u001b[39m\u001b[38;5;124mpage\u001b[39m\u001b[38;5;124m'\u001b[39m] \u001b[38;5;241m==\u001b[39m response[\u001b[38;5;124m'\u001b[39m\u001b[38;5;124mpagination\u001b[39m\u001b[38;5;124m'\u001b[39m][\u001b[38;5;124m'\u001b[39m\u001b[38;5;124mtotal\u001b[39m\u001b[38;5;124m'\u001b[39m]:\n\u001b[1;32m     70\u001b[0m     \u001b[38;5;28;01mbreak\u001b[39;00m\n",
      "File \u001b[0;32m~/work/soft/plugins/nomad-utility-workflows/src/nomad_utility_workflows/utils/datasets.py:68\u001b[0m, in \u001b[0;36m<listcomp>\u001b[0;34m(.0)\u001b[0m\n\u001b[1;32m     66\u001b[0m \u001b[38;5;28;01mif\u001b[39;00m \u001b[38;5;129;01mnot\u001b[39;00m response[\u001b[38;5;124m'\u001b[39m\u001b[38;5;124mdata\u001b[39m\u001b[38;5;124m'\u001b[39m]:\n\u001b[1;32m     67\u001b[0m     \u001b[38;5;28;01mbreak\u001b[39;00m\n\u001b[0;32m---> 68\u001b[0m datasets\u001b[38;5;241m.\u001b[39mextend([\u001b[43mNomadDataset\u001b[49m\u001b[43m(\u001b[49m\u001b[38;5;241;43m*\u001b[39;49m\u001b[38;5;241;43m*\u001b[39;49m\u001b[43md\u001b[49m\u001b[43m)\u001b[49m \u001b[38;5;28;01mfor\u001b[39;00m d \u001b[38;5;129;01min\u001b[39;00m response[\u001b[38;5;124m'\u001b[39m\u001b[38;5;124mdata\u001b[39m\u001b[38;5;124m'\u001b[39m]])\n\u001b[1;32m     69\u001b[0m \u001b[38;5;28;01mif\u001b[39;00m response[\u001b[38;5;124m'\u001b[39m\u001b[38;5;124mpagination\u001b[39m\u001b[38;5;124m'\u001b[39m][\u001b[38;5;124m'\u001b[39m\u001b[38;5;124mpage\u001b[39m\u001b[38;5;124m'\u001b[39m] \u001b[38;5;241m==\u001b[39m response[\u001b[38;5;124m'\u001b[39m\u001b[38;5;124mpagination\u001b[39m\u001b[38;5;124m'\u001b[39m][\u001b[38;5;124m'\u001b[39m\u001b[38;5;124mtotal\u001b[39m\u001b[38;5;124m'\u001b[39m]:\n\u001b[1;32m     70\u001b[0m     \u001b[38;5;28;01mbreak\u001b[39;00m\n",
      "\u001b[0;31mTypeError\u001b[0m: NomadDataset.__init__() got an unexpected keyword argument 'user_id'"
     ]
    }
   ],
   "source": [
    "my_datasets = retrieve_datasets(user_id=nomad_user_me.user_id, use_prod=True, max_datasets=20)\n",
    "pprint(my_datasets)"
   ]
  },
  {
   "cell_type": "code",
   "execution_count": 4,
   "metadata": {},
   "outputs": [
    {
     "data": {
      "text/plain": [
       "'ebwoNMcASJyL2ZDeO4R3SQ'"
      ]
     },
     "execution_count": 4,
     "metadata": {},
     "output_type": "execute_result"
    }
   ],
   "source": [
    "# dataset_id = create_dataset(\"test dataset\", use_prod=False)\n",
    "# dataset_id\n",
    "\n",
    "dataset_id = create_dataset(\"test martignac\", use_prod=True)\n",
    "dataset_id"
   ]
  },
  {
   "cell_type": "code",
   "execution_count": 23,
   "metadata": {},
   "outputs": [
    {
     "data": {
      "text/plain": [
       "{'upload_id': 'aMG_RQZLRFmd861n8EdVNg',\n",
       " 'data': {'process_running': True,\n",
       "  'current_process': 'edit_upload_metadata',\n",
       "  'process_status': 'PENDING',\n",
       "  'last_status_message': 'Pending: edit_upload_metadata',\n",
       "  'errors': [],\n",
       "  'warnings': [],\n",
       "  'complete_time': '2024-07-01T11:08:34.973000',\n",
       "  'upload_id': 'aMG_RQZLRFmd861n8EdVNg',\n",
       "  'upload_name': 'Test Upload',\n",
       "  'upload_create_time': '2024-07-01T11:08:22.913000',\n",
       "  'main_author': '7c85bdf1-8b53-40a8-81a4-04f26ff56f29',\n",
       "  'coauthors': [],\n",
       "  'coauthor_groups': [],\n",
       "  'reviewers': [],\n",
       "  'reviewer_groups': [],\n",
       "  'writers': ['7c85bdf1-8b53-40a8-81a4-04f26ff56f29'],\n",
       "  'writer_groups': [],\n",
       "  'viewers': ['7c85bdf1-8b53-40a8-81a4-04f26ff56f29'],\n",
       "  'viewer_groups': [],\n",
       "  'published': True,\n",
       "  'published_to': [],\n",
       "  'publish_time': '2024-07-01T11:08:34.959000',\n",
       "  'with_embargo': False,\n",
       "  'embargo_length': 0,\n",
       "  'license': 'CC BY 4.0',\n",
       "  'entries': 1}}"
      ]
     },
     "execution_count": 23,
     "metadata": {},
     "output_type": "execute_result"
    }
   ],
   "source": [
    "metadata_new = {'dataset_id': dataset_id}\n",
    "edit_upload_metadata(upload_id, use_prod=False, **metadata_new)"
   ]
  },
  {
   "cell_type": "code",
   "execution_count": 24,
   "metadata": {},
   "outputs": [
    {
     "data": {
      "text/plain": [
       "NomadDataset(dataset_id='71V3LrAhQOaYcqILcetQTg', dataset_create_time=datetime.datetime(2024, 7, 1, 11, 9, 26, 760000), dataset_name='test dataset', dataset_type='DatasetType.owned', dataset_modified_time=datetime.datetime(2024, 7, 1, 11, 9, 26, 760000), user=NomadUser(name='Joseph Rudzinski'), doi=None, pid=None, m_annotations=None)"
      ]
     },
     "execution_count": 24,
     "metadata": {},
     "output_type": "execute_result"
    }
   ],
   "source": [
    "dataset = get_dataset_by_id(dataset_id, use_prod=False)\n",
    "dataset"
   ]
  },
  {
   "cell_type": "code",
   "execution_count": 25,
   "metadata": {},
   "outputs": [
    {
     "data": {
      "text/plain": [
       "[NomadEntry(entry_id='Me3_ysgR6EaWCvPbYei7hFPBQU8b', upload_id='aMG_RQZLRFmd861n8EdVNg', references=[], origin='Joseph Rudzinski', n_quantities=0, nomad_version='1.3.0', upload_create_time=datetime.datetime(2024, 7, 1, 11, 8, 22, 913000, tzinfo=datetime.timezone(datetime.timedelta(0), '+0000')), nomad_commit='', processing_errors=[], entry_name='test.archive.json', last_processing_time=datetime.datetime(2024, 7, 1, 11, 8, 23, 424000, tzinfo=datetime.timezone(datetime.timedelta(0), '+0000')), parser_name='parsers/archive', calc_id='Me3_ysgR6EaWCvPbYei7hFPBQU8b', published=True, writers=[NomadUser(name='Joseph Rudzinski')], processed=True, mainfile='test.archive.json', main_author=NomadUser(name='Joseph Rudzinski'), entry_create_time=datetime.datetime(2024, 7, 1, 11, 8, 23, 217000, tzinfo=datetime.timezone(datetime.timedelta(0), '+0000')), with_embargo=False, entry_type=None, license='CC BY 4.0', domain=None, comment='This is a test upload...', upload_name='Test Upload', text_search_contents=[], publish_time=datetime.datetime(2024, 7, 1, 11, 8, 34, 959000, tzinfo=datetime.timezone(datetime.timedelta(0), '+0000')), entry_references=None, use_prod=False)]"
      ]
     },
     "execution_count": 25,
     "metadata": {},
     "output_type": "execute_result"
    }
   ],
   "source": [
    "query_entries(dataset_id=dataset_id, use_prod=False)"
   ]
  },
  {
   "cell_type": "code",
   "execution_count": 26,
   "metadata": {},
   "outputs": [],
   "source": [
    "# delete_dataset(dataset_id, use_prod=False)"
   ]
  },
  {
   "cell_type": "code",
   "execution_count": 27,
   "metadata": {},
   "outputs": [
    {
     "data": {
      "text/plain": [
       "[NomadEntry(entry_id='u6jMV0SRNoWbZS3dy5GwUPTzI0pf', upload_id='E70NAf4KR7S2Eal5K1ojVQ', references=[], origin='Tristan Bereau', n_quantities=0, nomad_version='1.2.2.dev365+g0c980916a', upload_create_time=datetime.datetime(2024, 5, 1, 11, 57, 40, 911000, tzinfo=datetime.timezone(datetime.timedelta(0), '+0000')), nomad_commit='', processing_errors=['Error creating MDAnalysis universe.', 'Error creating MDAnalysis universe.', 'Error creating MDAnalysis universe.', 'Error parsing interactions.', 'Error creating MDAnalysis universe.', 'Error creating MDAnalysis universe.', 'Error creating MDAnalysis universe.', 'Error creating MDAnalysis universe.', 'Error creating MDAnalysis universe.', 'Error creating MDAnalysis universe.', 'Error creating MDAnalysis universe.'], entry_name='GROMACS MolecularDynamics simulation', last_processing_time=datetime.datetime(2024, 5, 1, 11, 57, 42, 262000, tzinfo=datetime.timezone(datetime.timedelta(0), '+0000')), parser_name='parsers/gromacs', calc_id='u6jMV0SRNoWbZS3dy5GwUPTzI0pf', published=False, writers=[NomadUser(name='Tristan Bereau'), NomadUser(name='Joseph Rudzinski'), NomadUser(name='Jose Pizarro Blanco')], processed=True, mainfile='solute_equilibrate.log', main_author=NomadUser(name='Tristan Bereau'), entry_create_time=datetime.datetime(2024, 5, 1, 11, 57, 41, 480000, tzinfo=datetime.timezone(datetime.timedelta(0), '+0000')), with_embargo=False, entry_type='GROMACS MolecularDynamics', license='CC BY 4.0', domain='dft', comment='{\"job_id\": \"bc3c7ca12d4e7b0fa984e8cbb813acbf\", \"workflow_name\": \"SoluteGenFlow\", \"state_point\": {\"type\": \"solute\", \"solute_name\": \"P6\"}, \"mdp_files\": \"2d7a9e52d14d23e0dfb97192d75a3463\", \"itp_files\": \"a52590b1d87d122ba1e376b83c3d6bee\"}', upload_name=None, text_search_contents=[], publish_time=None, entry_references=None, use_prod=False),\n",
       " NomadEntry(entry_id='qmR2yY0Yn0RSQa6q-pBPZigU4ueO', upload_id='E70NAf4KR7S2Eal5K1ojVQ', references=[], origin='Tristan Bereau', n_quantities=0, nomad_version='1.2.2.dev365+g0c980916a', upload_create_time=datetime.datetime(2024, 5, 1, 11, 57, 40, 911000, tzinfo=datetime.timezone(datetime.timedelta(0), '+0000')), nomad_commit='', processing_errors=[], entry_name='solute_generation.archive.yaml', last_processing_time=datetime.datetime(2024, 5, 1, 11, 57, 42, 185000, tzinfo=datetime.timezone(datetime.timedelta(0), '+0000')), parser_name='parsers/archive', calc_id='qmR2yY0Yn0RSQa6q-pBPZigU4ueO', published=False, writers=[NomadUser(name='Tristan Bereau'), NomadUser(name='Joseph Rudzinski'), NomadUser(name='Jose Pizarro Blanco')], processed=True, mainfile='solute_generation.archive.yaml', main_author=NomadUser(name='Tristan Bereau'), entry_create_time=datetime.datetime(2024, 5, 1, 11, 57, 41, 510000, tzinfo=datetime.timezone(datetime.timedelta(0), '+0000')), with_embargo=False, entry_type='Workflow', license='CC BY 4.0', domain=None, comment='{\"job_id\": \"bc3c7ca12d4e7b0fa984e8cbb813acbf\", \"workflow_name\": \"SoluteGenFlow\", \"state_point\": {\"type\": \"solute\", \"solute_name\": \"P6\"}, \"mdp_files\": \"2d7a9e52d14d23e0dfb97192d75a3463\", \"itp_files\": \"a52590b1d87d122ba1e376b83c3d6bee\"}', upload_name=None, text_search_contents=[], publish_time=None, entry_references=[{'target_upload_id': 'E70NAf4KR7S2Eal5K1ojVQ', 'target_entry_id': 'u6jMV0SRNoWbZS3dy5GwUPTzI0pf', 'target_name': '-1', 'target_mainfile': 'solute_equilibrate.log', 'target_reference': '../upload/archive/mainfile/solute_equilibrate.log#/run/0/calculation/-1', 'source_path': 'workflow2.outputs.section', 'target_path': '/run/0/calculation/-1', 'source_name': 'section', 'source_quantity': 'nomad.datamodel.metainfo.workflow.Link.section'}, {'target_upload_id': 'E70NAf4KR7S2Eal5K1ojVQ', 'target_entry_id': 'q6e-nwlogOiTNchnUq3aGR8NtlYU', 'target_name': 'calculation', 'target_mainfile': 'solute_minimize.log', 'target_reference': '../upload/archive/mainfile/solute_minimize.log#/run/0/calculation/0', 'source_path': 'workflow2.tasks.outputs.section', 'target_path': '/run/0/calculation/0', 'source_name': 'section', 'source_quantity': 'nomad.datamodel.metainfo.workflow.Link.section'}, {'target_upload_id': 'E70NAf4KR7S2Eal5K1ojVQ', 'target_entry_id': 'q6e-nwlogOiTNchnUq3aGR8NtlYU', 'target_name': 'calculation', 'target_mainfile': 'solute_minimize.log', 'target_reference': '../upload/archive/mainfile/solute_minimize.log#/run/0/calculation/0', 'source_path': 'workflow2.tasks.inputs.section', 'target_path': '/run/0/calculation/0', 'source_name': 'section', 'source_quantity': 'nomad.datamodel.metainfo.workflow.Link.section'}, {'target_upload_id': 'E70NAf4KR7S2Eal5K1ojVQ', 'target_entry_id': 'q6e-nwlogOiTNchnUq3aGR8NtlYU', 'target_name': '-1', 'target_mainfile': 'solute_minimize.log', 'target_reference': '../upload/archive/mainfile/solute_minimize.log#/run/0/calculation/-1', 'source_path': 'workflow2.tasks.outputs.section', 'target_path': '/run/0/calculation/-1', 'source_name': 'section', 'source_quantity': 'nomad.datamodel.metainfo.workflow.Link.section'}, {'target_upload_id': 'E70NAf4KR7S2Eal5K1ojVQ', 'target_entry_id': 'q6e-nwlogOiTNchnUq3aGR8NtlYU', 'target_name': 'workflow2', 'target_mainfile': 'solute_minimize.log', 'target_reference': '../upload/archive/mainfile/solute_minimize.log#/workflow2', 'source_path': 'workflow2.tasks.task', 'target_path': '/workflow2', 'source_name': 'task', 'source_quantity': 'nomad.datamodel.metainfo.workflow.TaskReference.task'}, {'target_upload_id': 'E70NAf4KR7S2Eal5K1ojVQ', 'target_entry_id': 'q6e-nwlogOiTNchnUq3aGR8NtlYU', 'target_name': '-1', 'target_mainfile': 'solute_minimize.log', 'target_reference': '../upload/archive/mainfile/solute_minimize.log#/run/0/calculation/-1', 'source_path': 'workflow2.tasks.inputs.section', 'target_path': '/run/0/calculation/-1', 'source_name': 'section', 'source_quantity': 'nomad.datamodel.metainfo.workflow.Link.section'}, {'target_upload_id': 'E70NAf4KR7S2Eal5K1ojVQ', 'target_entry_id': 'u6jMV0SRNoWbZS3dy5GwUPTzI0pf', 'target_name': '-1', 'target_mainfile': 'solute_equilibrate.log', 'target_reference': '../upload/archive/mainfile/solute_equilibrate.log#/run/0/calculation/-1', 'source_path': 'workflow2.tasks.outputs.section', 'target_path': '/run/0/calculation/-1', 'source_name': 'section', 'source_quantity': 'nomad.datamodel.metainfo.workflow.Link.section'}, {'target_upload_id': 'E70NAf4KR7S2Eal5K1ojVQ', 'target_entry_id': 'u6jMV0SRNoWbZS3dy5GwUPTzI0pf', 'target_name': 'workflow2', 'target_mainfile': 'solute_equilibrate.log', 'target_reference': '../upload/archive/mainfile/solute_equilibrate.log#/workflow2', 'source_path': 'workflow2.tasks.task', 'target_path': '/workflow2', 'source_name': 'task', 'source_quantity': 'nomad.datamodel.metainfo.workflow.TaskReference.task'}], use_prod=False),\n",
       " NomadEntry(entry_id='q6e-nwlogOiTNchnUq3aGR8NtlYU', upload_id='E70NAf4KR7S2Eal5K1ojVQ', references=[], origin='Tristan Bereau', n_quantities=0, nomad_version='1.2.2.dev365+g0c980916a', upload_create_time=datetime.datetime(2024, 5, 1, 11, 57, 40, 911000, tzinfo=datetime.timezone(datetime.timedelta(0), '+0000')), nomad_commit='', processing_errors=['Error creating MDAnalysis universe.', 'Error creating MDAnalysis universe.', 'Error creating MDAnalysis universe.', 'Error parsing interactions.', 'Error creating MDAnalysis universe.', 'Error creating MDAnalysis universe.', 'Error creating MDAnalysis universe.', 'Error creating MDAnalysis universe.', 'Error creating MDAnalysis universe.', 'Error creating MDAnalysis universe.', 'Error creating MDAnalysis universe.'], entry_name='GROMACS GeometryOptimization simulation', last_processing_time=datetime.datetime(2024, 5, 1, 11, 57, 42, 248000, tzinfo=datetime.timezone(datetime.timedelta(0), '+0000')), parser_name='parsers/gromacs', calc_id='q6e-nwlogOiTNchnUq3aGR8NtlYU', published=False, writers=[NomadUser(name='Tristan Bereau'), NomadUser(name='Joseph Rudzinski'), NomadUser(name='Jose Pizarro Blanco')], processed=True, mainfile='solute_minimize.log', main_author=NomadUser(name='Tristan Bereau'), entry_create_time=datetime.datetime(2024, 5, 1, 11, 57, 41, 528000, tzinfo=datetime.timezone(datetime.timedelta(0), '+0000')), with_embargo=False, entry_type='GROMACS GeometryOptimization', license='CC BY 4.0', domain='dft', comment='{\"job_id\": \"bc3c7ca12d4e7b0fa984e8cbb813acbf\", \"workflow_name\": \"SoluteGenFlow\", \"state_point\": {\"type\": \"solute\", \"solute_name\": \"P6\"}, \"mdp_files\": \"2d7a9e52d14d23e0dfb97192d75a3463\", \"itp_files\": \"a52590b1d87d122ba1e376b83c3d6bee\"}', upload_name=None, text_search_contents=[], publish_time=None, entry_references=None, use_prod=False),\n",
       " NomadEntry(entry_id='RMKynnX-b6EnZ98t25x2rUWo7Amd', upload_id='Grboa5V7Qa6mSg_WXPqqlQ', references=[], origin='Joseph Rudzinski', n_quantities=34, nomad_version='1.3.0', upload_create_time=datetime.datetime(2024, 6, 25, 14, 19, 25, 276000, tzinfo=datetime.timezone(datetime.timedelta(0), '+0000')), nomad_commit='', processing_errors=[], entry_name='test.archive.json', last_processing_time=datetime.datetime(2024, 6, 25, 14, 19, 25, 861000, tzinfo=datetime.timezone(datetime.timedelta(0), '+0000')), parser_name='parsers/archive', calc_id='RMKynnX-b6EnZ98t25x2rUWo7Amd', published=False, writers=[NomadUser(name='Joseph Rudzinski')], processed=True, mainfile='test.archive.json', main_author=NomadUser(name='Joseph Rudzinski'), entry_create_time=datetime.datetime(2024, 6, 25, 14, 19, 25, 641000, tzinfo=datetime.timezone(datetime.timedelta(0), '+0000')), with_embargo=False, entry_type=None, license='CC BY 4.0', domain=None, comment=None, upload_name=None, text_search_contents=[], publish_time=None, entry_references=None, use_prod=False),\n",
       " NomadEntry(entry_id='54mdn02jcZg-QIuN6z-2bCGqgYcO', upload_id='baVAhkNjSvysad0spZi6CQ', references=[], origin='Joseph Rudzinski', n_quantities=34, nomad_version='1.3.0', upload_create_time=datetime.datetime(2024, 6, 28, 7, 13, 5, 78000, tzinfo=datetime.timezone(datetime.timedelta(0), '+0000')), nomad_commit='', processing_errors=[], entry_name='test.archive.json', last_processing_time=datetime.datetime(2024, 6, 28, 7, 13, 5, 699000, tzinfo=datetime.timezone(datetime.timedelta(0), '+0000')), parser_name='parsers/archive', calc_id='54mdn02jcZg-QIuN6z-2bCGqgYcO', published=True, writers=[NomadUser(name='Joseph Rudzinski')], processed=True, mainfile='test.archive.json', main_author=NomadUser(name='Joseph Rudzinski'), entry_create_time=datetime.datetime(2024, 6, 28, 7, 13, 5, 427000, tzinfo=datetime.timezone(datetime.timedelta(0), '+0000')), with_embargo=False, entry_type=None, license='CC BY 4.0', domain=None, comment='This is a test upload...', upload_name='Test Upload', text_search_contents=[], publish_time=None, entry_references=None, use_prod=False),\n",
       " NomadEntry(entry_id='S4ukbFGEmkYwK6-C5g_rydIUbOor', upload_id='6UtJVEB5Ru-AZbkLwdki4A', references=[], origin='Joseph Rudzinski', n_quantities=0, nomad_version='1.3.0', upload_create_time=datetime.datetime(2024, 6, 28, 7, 44, 21, 535000, tzinfo=datetime.timezone(datetime.timedelta(0), '+0000')), nomad_commit='', processing_errors=[], entry_name='test.archive.json', last_processing_time=datetime.datetime(2024, 6, 28, 7, 44, 21, 876000, tzinfo=datetime.timezone(datetime.timedelta(0), '+0000')), parser_name='parsers/archive', calc_id='S4ukbFGEmkYwK6-C5g_rydIUbOor', published=False, writers=[NomadUser(name='Joseph Rudzinski')], processed=True, mainfile='test.archive.json', main_author=NomadUser(name='Joseph Rudzinski'), entry_create_time=datetime.datetime(2024, 6, 28, 7, 44, 21, 700000, tzinfo=datetime.timezone(datetime.timedelta(0), '+0000')), with_embargo=False, entry_type=None, license='CC BY 4.0', domain=None, comment='This is a test upload...', upload_name='Test Upload', text_search_contents=[], publish_time=None, entry_references=None, use_prod=False),\n",
       " NomadEntry(entry_id='gb9Bo3oV4mlvzwO42SiN8oG_ekbI', upload_id='XnZH_VeOSlWGOKetfp4rQQ', references=[], origin='Joseph Rudzinski', n_quantities=0, nomad_version='1.3.0', upload_create_time=datetime.datetime(2024, 6, 28, 9, 23, 23, 793000, tzinfo=datetime.timezone(datetime.timedelta(0), '+0000')), nomad_commit='', processing_errors=[], entry_name='test.archive.json', last_processing_time=datetime.datetime(2024, 6, 28, 9, 23, 24, 159000, tzinfo=datetime.timezone(datetime.timedelta(0), '+0000')), parser_name='parsers/archive', calc_id='gb9Bo3oV4mlvzwO42SiN8oG_ekbI', published=False, writers=[NomadUser(name='Joseph Rudzinski')], processed=True, mainfile='test.archive.json', main_author=NomadUser(name='Joseph Rudzinski'), entry_create_time=datetime.datetime(2024, 6, 28, 9, 23, 23, 965000, tzinfo=datetime.timezone(datetime.timedelta(0), '+0000')), with_embargo=False, entry_type=None, license='CC BY 4.0', domain=None, comment='This is a test upload...', upload_name='Test Upload', text_search_contents=[], publish_time=None, entry_references=None, use_prod=False),\n",
       " NomadEntry(entry_id='Pz-xhjXGl5v1A3AHuXXvSaa9I2dX', upload_id='GuoLeTqPSz2E0whEw-yRmw', references=[], origin='Joseph Rudzinski', n_quantities=0, nomad_version='1.3.0', upload_create_time=datetime.datetime(2024, 6, 28, 9, 29, 6, 348000, tzinfo=datetime.timezone(datetime.timedelta(0), '+0000')), nomad_commit='', processing_errors=[], entry_name='test.archive.json', last_processing_time=datetime.datetime(2024, 6, 28, 9, 29, 6, 716000, tzinfo=datetime.timezone(datetime.timedelta(0), '+0000')), parser_name='parsers/archive', calc_id='Pz-xhjXGl5v1A3AHuXXvSaa9I2dX', published=False, writers=[NomadUser(name='Joseph Rudzinski')], processed=True, mainfile='test.archive.json', main_author=NomadUser(name='Joseph Rudzinski'), entry_create_time=datetime.datetime(2024, 6, 28, 9, 29, 6, 521000, tzinfo=datetime.timezone(datetime.timedelta(0), '+0000')), with_embargo=False, entry_type=None, license='CC BY 4.0', domain=None, comment='This is a test upload...', upload_name='Test Upload', text_search_contents=[], publish_time=None, entry_references=None, use_prod=False),\n",
       " NomadEntry(entry_id='O26KRAWhw-TBzHOLrhIl_o0jiQEf', upload_id='o-xLzcHwSIe1OwUd_JVcQA', references=[], origin='Joseph Rudzinski', n_quantities=0, nomad_version='1.3.0', upload_create_time=datetime.datetime(2024, 6, 28, 9, 32, 56, 237000, tzinfo=datetime.timezone(datetime.timedelta(0), '+0000')), nomad_commit='', processing_errors=[], entry_name='test.archive.json', last_processing_time=datetime.datetime(2024, 6, 28, 9, 32, 56, 630000, tzinfo=datetime.timezone(datetime.timedelta(0), '+0000')), parser_name='parsers/archive', calc_id='O26KRAWhw-TBzHOLrhIl_o0jiQEf', published=False, writers=[NomadUser(name='Joseph Rudzinski')], processed=True, mainfile='test.archive.json', main_author=NomadUser(name='Joseph Rudzinski'), entry_create_time=datetime.datetime(2024, 6, 28, 9, 32, 56, 447000, tzinfo=datetime.timezone(datetime.timedelta(0), '+0000')), with_embargo=False, entry_type=None, license='CC BY 4.0', domain=None, comment='This is a test upload...', upload_name='Test Upload', text_search_contents=[], publish_time=None, entry_references=None, use_prod=False),\n",
       " NomadEntry(entry_id='2TahaaC1NrbxkiWqOhBo_pW6PTy2', upload_id='MpgIUQ1fQDaBNgVRHdTpBQ', references=[], origin='Joseph Rudzinski', n_quantities=0, nomad_version='1.3.0', upload_create_time=datetime.datetime(2024, 6, 28, 9, 33, 38, 996000, tzinfo=datetime.timezone(datetime.timedelta(0), '+0000')), nomad_commit='', processing_errors=[], entry_name='test.archive.json', last_processing_time=datetime.datetime(2024, 6, 28, 9, 33, 39, 337000, tzinfo=datetime.timezone(datetime.timedelta(0), '+0000')), parser_name='parsers/archive', calc_id='2TahaaC1NrbxkiWqOhBo_pW6PTy2', published=False, writers=[NomadUser(name='Joseph Rudzinski')], processed=True, mainfile='test.archive.json', main_author=NomadUser(name='Joseph Rudzinski'), entry_create_time=datetime.datetime(2024, 6, 28, 9, 33, 39, 156000, tzinfo=datetime.timezone(datetime.timedelta(0), '+0000')), with_embargo=False, entry_type=None, license='CC BY 4.0', domain=None, comment='This is a test upload...', upload_name='Test Upload', text_search_contents=[], publish_time=None, entry_references=None, use_prod=False),\n",
       " NomadEntry(entry_id='ePsIu34cn9j3FRp2spGFdhZLlu3v', upload_id='64ufurpgRYqO-PawASKUtg', references=[], origin='Joseph Rudzinski', n_quantities=0, nomad_version='1.3.0', upload_create_time=datetime.datetime(2024, 6, 28, 12, 18, 47, 145000, tzinfo=datetime.timezone(datetime.timedelta(0), '+0000')), nomad_commit='', processing_errors=[], entry_name='test.archive.json', last_processing_time=datetime.datetime(2024, 6, 28, 12, 18, 47, 494000, tzinfo=datetime.timezone(datetime.timedelta(0), '+0000')), parser_name='parsers/archive', calc_id='ePsIu34cn9j3FRp2spGFdhZLlu3v', published=True, writers=[NomadUser(name='Joseph Rudzinski')], processed=True, mainfile='test.archive.json', main_author=NomadUser(name='Joseph Rudzinski'), entry_create_time=datetime.datetime(2024, 6, 28, 12, 18, 47, 302000, tzinfo=datetime.timezone(datetime.timedelta(0), '+0000')), with_embargo=False, entry_type=None, license='CC BY 4.0', domain=None, comment='This is a test upload...', upload_name='Test Upload', text_search_contents=[], publish_time=datetime.datetime(2024, 6, 28, 12, 19, 2, 558000, tzinfo=datetime.timezone(datetime.timedelta(0), '+0000')), entry_references=None, use_prod=False),\n",
       " NomadEntry(entry_id='Me3_ysgR6EaWCvPbYei7hFPBQU8b', upload_id='aMG_RQZLRFmd861n8EdVNg', references=[], origin='Joseph Rudzinski', n_quantities=0, nomad_version='1.3.0', upload_create_time=datetime.datetime(2024, 7, 1, 11, 8, 22, 913000, tzinfo=datetime.timezone(datetime.timedelta(0), '+0000')), nomad_commit='', processing_errors=[], entry_name='test.archive.json', last_processing_time=datetime.datetime(2024, 7, 1, 11, 8, 23, 424000, tzinfo=datetime.timezone(datetime.timedelta(0), '+0000')), parser_name='parsers/archive', calc_id='Me3_ysgR6EaWCvPbYei7hFPBQU8b', published=False, writers=[NomadUser(name='Joseph Rudzinski')], processed=True, mainfile='test.archive.json', main_author=NomadUser(name='Joseph Rudzinski'), entry_create_time=datetime.datetime(2024, 7, 1, 11, 8, 23, 217000, tzinfo=datetime.timezone(datetime.timedelta(0), '+0000')), with_embargo=False, entry_type=None, license='CC BY 4.0', domain=None, comment='This is a test upload...', upload_name='Test Upload', text_search_contents=[], publish_time=None, entry_references=None, use_prod=False)]"
      ]
     },
     "execution_count": 27,
     "metadata": {},
     "output_type": "execute_result"
    }
   ],
   "source": [
    "get_entries_of_my_uploads(use_prod=False)"
   ]
  },
  {
   "cell_type": "code",
   "execution_count": 28,
   "metadata": {},
   "outputs": [
    {
     "data": {
      "text/plain": [
       "[NomadUpload(upload_id='E70NAf4KR7S2Eal5K1ojVQ', upload_create_time=datetime.datetime(2024, 5, 1, 11, 57, 40, 911000), main_author=NomadUser(name='Tristan Bereau'), process_running=False, current_process='edit_upload_metadata', process_status='SUCCESS', last_status_message='Process edit_upload_metadata completed successfully', errors=[], warnings=[], coauthors=['7c85bdf1-8b53-40a8-81a4-04f26ff56f29', '39e50f2e-1eca-444e-8716-bfbb7907080b'], coauthor_groups=[], reviewers=[], reviewer_groups=[], writers=[NomadUser(name='Jose Pizarro Blanco'), NomadUser(name='Tristan Bereau'), NomadUser(name='Joseph Rudzinski')], writer_groups=[], viewers=[NomadUser(name='Jose Pizarro Blanco'), NomadUser(name='Tristan Bereau'), NomadUser(name='Joseph Rudzinski')], viewer_groups=[], published=False, published_to=[], with_embargo=False, embargo_length=0.0, license='CC BY 4.0', entries=3, n_entries=None, upload_files_server_path='/nomad/test/fs/staging/E/E70NAf4KR7S2Eal5K1ojVQ', publish_time=None, references=None, datasets=None, external_db=None, upload_name=None, comment=None, use_prod=False, complete_time=datetime.datetime(2024, 6, 17, 7, 29, 41, 807000)),\n",
       " NomadUpload(upload_id='Grboa5V7Qa6mSg_WXPqqlQ', upload_create_time=datetime.datetime(2024, 6, 25, 14, 19, 25, 276000), main_author=NomadUser(name='Joseph Rudzinski'), process_running=False, current_process='process_upload', process_status='SUCCESS', last_status_message='Process process_upload completed successfully', errors=[], warnings=[], coauthors=[], coauthor_groups=[], reviewers=[], reviewer_groups=[], writers=[NomadUser(name='Joseph Rudzinski')], writer_groups=[], viewers=[NomadUser(name='Joseph Rudzinski')], viewer_groups=[], published=False, published_to=[], with_embargo=False, embargo_length=0.0, license='CC BY 4.0', entries=1, n_entries=None, upload_files_server_path='/nomad/test/fs/staging/G/Grboa5V7Qa6mSg_WXPqqlQ', publish_time=None, references=None, datasets=None, external_db=None, upload_name=None, comment=None, use_prod=False, complete_time=datetime.datetime(2024, 6, 25, 14, 19, 26, 523000)),\n",
       " NomadUpload(upload_id='baVAhkNjSvysad0spZi6CQ', upload_create_time=datetime.datetime(2024, 6, 28, 7, 13, 5, 78000), main_author=NomadUser(name='Joseph Rudzinski'), process_running=False, current_process='publish_upload', process_status='SUCCESS', last_status_message='Process publish_upload completed successfully', errors=[], warnings=[], coauthors=[], coauthor_groups=[], reviewers=[], reviewer_groups=[], writers=[NomadUser(name='Joseph Rudzinski')], writer_groups=[], viewers=[NomadUser(name='Joseph Rudzinski')], viewer_groups=[], published=True, published_to=[], with_embargo=False, embargo_length=0.0, license='CC BY 4.0', entries=1, n_entries=None, upload_files_server_path=None, publish_time=datetime.datetime(2024, 6, 28, 7, 14, 33, 944000), references=None, datasets=None, external_db=None, upload_name='Test Upload', comment=None, use_prod=False, complete_time=datetime.datetime(2024, 6, 28, 7, 14, 33, 957000)),\n",
       " NomadUpload(upload_id='6UtJVEB5Ru-AZbkLwdki4A', upload_create_time=datetime.datetime(2024, 6, 28, 7, 44, 21, 535000), main_author=NomadUser(name='Joseph Rudzinski'), process_running=False, current_process='edit_upload_metadata', process_status='SUCCESS', last_status_message='Process edit_upload_metadata completed successfully', errors=[], warnings=[], coauthors=[], coauthor_groups=[], reviewers=[], reviewer_groups=[], writers=[NomadUser(name='Joseph Rudzinski')], writer_groups=[], viewers=[NomadUser(name='Joseph Rudzinski')], viewer_groups=[], published=False, published_to=[], with_embargo=False, embargo_length=0.0, license='CC BY 4.0', entries=1, n_entries=None, upload_files_server_path='/nomad/test/fs/staging/6/6UtJVEB5Ru-AZbkLwdki4A', publish_time=None, references=None, datasets=None, external_db=None, upload_name='Test Upload', comment=None, use_prod=False, complete_time=datetime.datetime(2024, 6, 28, 7, 44, 23, 306000)),\n",
       " NomadUpload(upload_id='XnZH_VeOSlWGOKetfp4rQQ', upload_create_time=datetime.datetime(2024, 6, 28, 9, 23, 23, 793000), main_author=NomadUser(name='Joseph Rudzinski'), process_running=False, current_process='edit_upload_metadata', process_status='SUCCESS', last_status_message='Process edit_upload_metadata completed successfully', errors=[], warnings=[], coauthors=[], coauthor_groups=[], reviewers=[], reviewer_groups=[], writers=[NomadUser(name='Joseph Rudzinski')], writer_groups=[], viewers=[NomadUser(name='Joseph Rudzinski')], viewer_groups=[], published=False, published_to=[], with_embargo=False, embargo_length=0.0, license='CC BY 4.0', entries=1, n_entries=None, upload_files_server_path='/nomad/test/fs/staging/X/XnZH_VeOSlWGOKetfp4rQQ', publish_time=None, references=None, datasets=None, external_db=None, upload_name='Test Upload', comment=None, use_prod=False, complete_time=datetime.datetime(2024, 6, 28, 9, 23, 26, 470000)),\n",
       " NomadUpload(upload_id='GuoLeTqPSz2E0whEw-yRmw', upload_create_time=datetime.datetime(2024, 6, 28, 9, 29, 6, 348000), main_author=NomadUser(name='Joseph Rudzinski'), process_running=False, current_process='edit_upload_metadata', process_status='SUCCESS', last_status_message='Process edit_upload_metadata completed successfully', errors=[], warnings=[], coauthors=[], coauthor_groups=[], reviewers=[], reviewer_groups=[], writers=[NomadUser(name='Joseph Rudzinski')], writer_groups=[], viewers=[NomadUser(name='Joseph Rudzinski')], viewer_groups=[], published=False, published_to=[], with_embargo=False, embargo_length=0.0, license='CC BY 4.0', entries=1, n_entries=None, upload_files_server_path='/nomad/test/fs/staging/G/GuoLeTqPSz2E0whEw-yRmw', publish_time=None, references=None, datasets=None, external_db=None, upload_name='Test Upload', comment=None, use_prod=False, complete_time=datetime.datetime(2024, 6, 28, 9, 29, 8, 438000)),\n",
       " NomadUpload(upload_id='o-xLzcHwSIe1OwUd_JVcQA', upload_create_time=datetime.datetime(2024, 6, 28, 9, 32, 56, 237000), main_author=NomadUser(name='Joseph Rudzinski'), process_running=False, current_process='edit_upload_metadata', process_status='SUCCESS', last_status_message='Process edit_upload_metadata completed successfully', errors=[], warnings=[], coauthors=[], coauthor_groups=[], reviewers=[], reviewer_groups=[], writers=[NomadUser(name='Joseph Rudzinski')], writer_groups=[], viewers=[NomadUser(name='Joseph Rudzinski')], viewer_groups=[], published=False, published_to=[], with_embargo=False, embargo_length=0.0, license='CC BY 4.0', entries=1, n_entries=None, upload_files_server_path='/nomad/test/fs/staging/o/o-xLzcHwSIe1OwUd_JVcQA', publish_time=None, references=None, datasets=None, external_db=None, upload_name='Test Upload', comment=None, use_prod=False, complete_time=datetime.datetime(2024, 6, 28, 9, 32, 57, 204000)),\n",
       " NomadUpload(upload_id='MpgIUQ1fQDaBNgVRHdTpBQ', upload_create_time=datetime.datetime(2024, 6, 28, 9, 33, 38, 996000), main_author=NomadUser(name='Joseph Rudzinski'), process_running=False, current_process='edit_upload_metadata', process_status='SUCCESS', last_status_message='Process edit_upload_metadata completed successfully', errors=[], warnings=[], coauthors=[], coauthor_groups=[], reviewers=[], reviewer_groups=[], writers=[NomadUser(name='Joseph Rudzinski')], writer_groups=[], viewers=[NomadUser(name='Joseph Rudzinski')], viewer_groups=[], published=False, published_to=[], with_embargo=False, embargo_length=0.0, license='CC BY 4.0', entries=1, n_entries=None, upload_files_server_path='/nomad/test/fs/staging/M/MpgIUQ1fQDaBNgVRHdTpBQ', publish_time=None, references=None, datasets=None, external_db=None, upload_name='Test Upload', comment=None, use_prod=False, complete_time=datetime.datetime(2024, 6, 28, 9, 33, 41, 667000)),\n",
       " NomadUpload(upload_id='64ufurpgRYqO-PawASKUtg', upload_create_time=datetime.datetime(2024, 6, 28, 12, 18, 47, 145000), main_author=NomadUser(name='Joseph Rudzinski'), process_running=False, current_process='edit_upload_metadata', process_status='SUCCESS', last_status_message='Process edit_upload_metadata completed successfully', errors=[], warnings=[], coauthors=[], coauthor_groups=[], reviewers=[], reviewer_groups=[], writers=[NomadUser(name='Joseph Rudzinski')], writer_groups=[], viewers=[NomadUser(name='Joseph Rudzinski')], viewer_groups=[], published=True, published_to=[], with_embargo=False, embargo_length=0.0, license='CC BY 4.0', entries=1, n_entries=None, upload_files_server_path=None, publish_time=datetime.datetime(2024, 6, 28, 12, 19, 2, 558000), references=None, datasets=None, external_db=None, upload_name='Test Upload', comment=None, use_prod=False, complete_time=datetime.datetime(2024, 6, 28, 12, 19, 53, 234000)),\n",
       " NomadUpload(upload_id='aMG_RQZLRFmd861n8EdVNg', upload_create_time=datetime.datetime(2024, 7, 1, 11, 8, 22, 913000), main_author=NomadUser(name='Joseph Rudzinski'), process_running=False, current_process='edit_upload_metadata', process_status='SUCCESS', last_status_message='Process edit_upload_metadata completed successfully', errors=[], warnings=[], coauthors=[], coauthor_groups=[], reviewers=[], reviewer_groups=[], writers=[NomadUser(name='Joseph Rudzinski')], writer_groups=[], viewers=[NomadUser(name='Joseph Rudzinski')], viewer_groups=[], published=True, published_to=[], with_embargo=False, embargo_length=0.0, license='CC BY 4.0', entries=1, n_entries=None, upload_files_server_path=None, publish_time=datetime.datetime(2024, 7, 1, 11, 8, 34, 959000), references=None, datasets=None, external_db=None, upload_name='Test Upload', comment=None, use_prod=False, complete_time=datetime.datetime(2024, 7, 1, 11, 9, 27, 853000))]"
      ]
     },
     "execution_count": 28,
     "metadata": {},
     "output_type": "execute_result"
    }
   ],
   "source": [
    "get_all_my_uploads(use_prod=False)"
   ]
  },
  {
   "cell_type": "code",
   "execution_count": null,
   "metadata": {},
   "outputs": [],
   "source": []
  },
  {
   "cell_type": "markdown",
   "metadata": {},
   "source": [
    "   entries can be organized hierarchically into *uploads*, *workflows*, and *datasets*. Since the parsing execution is dependent on automated identification of representative files, users are free to arbitrarily group simulations together upon upload. In this case, multiple entries will be created with the corresponding simulation data. An additional unique identifier, \\texttt{upload\\_id}, will be provided for this group of entries. Although the grouping of entries into an upload is not necessarily scientifically meaningful, it is practically useful for submitting batches of files from multiple simulations to NOMAD. Concretely, Martignac utilizes uploads to group all $\\lambda$ coupling points of a thermodynamic-integration calculation. This is particularly convenient since NOMAD retains the original directory structure when storing all the raw and processed data."
   ]
  },
  {
   "cell_type": "markdown",
   "metadata": {},
   "source": []
  }
 ],
 "metadata": {
  "kernelspec": {
   "display_name": "nomad_utility_workflows",
   "language": "python",
   "name": "nomad_utility_workflows"
  },
  "language_info": {
   "codemirror_mode": {
    "name": "ipython",
    "version": 3
   },
   "file_extension": ".py",
   "mimetype": "text/x-python",
   "name": "python",
   "nbconvert_exporter": "python",
   "pygments_lexer": "ipython3",
   "version": "3.11.0rc1"
  }
 },
 "nbformat": 4,
 "nbformat_minor": 2
}
